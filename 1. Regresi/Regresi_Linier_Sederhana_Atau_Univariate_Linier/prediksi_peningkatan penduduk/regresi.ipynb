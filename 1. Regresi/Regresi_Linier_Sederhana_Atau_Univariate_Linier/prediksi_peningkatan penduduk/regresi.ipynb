{
 "cells": [
  {
   "cell_type": "markdown",
   "metadata": {},
   "source": [
    "## Menyiapkan Dataset"
   ]
  },
  {
   "cell_type": "code",
   "execution_count": 1,
   "metadata": {},
   "outputs": [],
   "source": [
    "# import pustaka\n",
    "import pandas as pd\n",
    "import numpy as np\n",
    "import matplotlib.pyplot as plt\n",
    "import sklearn\n"
   ]
  },
  {
   "cell_type": "code",
   "execution_count": 2,
   "metadata": {},
   "outputs": [
    {
     "data": {
      "text/plain": [
       "array([1.88, 2.08, 2.32, 2.52, 2.75, 3.01])"
      ]
     },
     "execution_count": 2,
     "metadata": {},
     "output_type": "execute_result"
    }
   ],
   "source": [
    "# memanggil dataset\n",
    "dataset=pd.read_csv('populasi.csv')\n",
    "X=dataset.iloc[:, :1]\n",
    "Y=dataset.iloc[:,1].values\n",
    "dataku=pd.DataFrame(dataset)\n",
    "\n",
    "# memanggil data yg akan diprediksi\n",
    "datauji=pd.read_csv('prediksipopulasi.csv')\n",
    "X_uji = datauji.iloc[:, :1]\n",
    "Y"
   ]
  },
  {
   "cell_type": "code",
   "execution_count": 3,
   "metadata": {},
   "outputs": [
    {
     "name": "stdout",
     "output_type": "stream",
     "text": [
      "   Tahun\n",
      "5   2018\n",
      "-----------------\n",
      "   Tahun\n",
      "0   2021\n",
      "1   2024\n",
      "2   2027\n",
      "3   2030\n",
      "4   2033\n",
      "5   2036\n"
     ]
    }
   ],
   "source": [
    "# membagi/split Data\n",
    "from sklearn.model_selection import train_test_split\n",
    "X_train, X_test, Y_train, Y_test = train_test_split(X,Y,test_size = 0.1, random_state = 0)\n",
    "print(X_test)\n",
    "print(\"-----------------\")\n",
    "print(X_uji)"
   ]
  },
  {
   "cell_type": "markdown",
   "metadata": {},
   "source": [
    "## Proses Pemodelan"
   ]
  },
  {
   "cell_type": "code",
   "execution_count": 4,
   "metadata": {},
   "outputs": [
    {
     "name": "stdout",
     "output_type": "stream",
     "text": [
      "[3.182 3.4   3.618 3.836 4.054 4.272]\n"
     ]
    }
   ],
   "source": [
    "# Fitting pd Data Training\n",
    "from sklearn.linear_model import LinearRegression\n",
    "regressor = LinearRegression()\n",
    "regressor.fit(X_train, Y_train)\n",
    "\n",
    "# Memprediksi hasil dgn data Tes\n",
    "y_pred=regressor.predict(X_uji)\n",
    "print(y_pred)"
   ]
  },
  {
   "cell_type": "code",
   "execution_count": 5,
   "metadata": {},
   "outputs": [
    {
     "data": {
      "text/html": [
       "<div>\n",
       "<style scoped>\n",
       "    .dataframe tbody tr th:only-of-type {\n",
       "        vertical-align: middle;\n",
       "    }\n",
       "\n",
       "    .dataframe tbody tr th {\n",
       "        vertical-align: top;\n",
       "    }\n",
       "\n",
       "    .dataframe thead th {\n",
       "        text-align: right;\n",
       "    }\n",
       "</style>\n",
       "<table border=\"1\" class=\"dataframe\">\n",
       "  <thead>\n",
       "    <tr style=\"text-align: right;\">\n",
       "      <th></th>\n",
       "      <th>0</th>\n",
       "      <th>0</th>\n",
       "    </tr>\n",
       "  </thead>\n",
       "  <tbody>\n",
       "    <tr>\n",
       "      <th>0</th>\n",
       "      <td>2021</td>\n",
       "      <td>3.182</td>\n",
       "    </tr>\n",
       "    <tr>\n",
       "      <th>1</th>\n",
       "      <td>2024</td>\n",
       "      <td>3.400</td>\n",
       "    </tr>\n",
       "    <tr>\n",
       "      <th>2</th>\n",
       "      <td>2027</td>\n",
       "      <td>3.618</td>\n",
       "    </tr>\n",
       "    <tr>\n",
       "      <th>3</th>\n",
       "      <td>2030</td>\n",
       "      <td>3.836</td>\n",
       "    </tr>\n",
       "    <tr>\n",
       "      <th>4</th>\n",
       "      <td>2033</td>\n",
       "      <td>4.054</td>\n",
       "    </tr>\n",
       "    <tr>\n",
       "      <th>5</th>\n",
       "      <td>2036</td>\n",
       "      <td>4.272</td>\n",
       "    </tr>\n",
       "  </tbody>\n",
       "</table>\n",
       "</div>"
      ],
      "text/plain": [
       "      0      0\n",
       "0  2021  3.182\n",
       "1  2024  3.400\n",
       "2  2027  3.618\n",
       "3  2030  3.836\n",
       "4  2033  4.054\n",
       "5  2036  4.272"
      ]
     },
     "execution_count": 5,
     "metadata": {},
     "output_type": "execute_result"
    }
   ],
   "source": [
    "# Menyimpan Hasil ke File CSV\n",
    "tahunuji = np.array(X_uji)\n",
    "tahun = pd.DataFrame(tahunuji)\n",
    "prediksi = pd.DataFrame(y_pred)\n",
    "hasil=pd.concat([tahun, prediksi], axis=1)\n",
    "np.savetxt('hasil.csv', hasil, delimiter=',')\n",
    "hasil"
   ]
  },
  {
   "cell_type": "markdown",
   "metadata": {},
   "source": [
    "## Pembuatan Grafik/Plot"
   ]
  },
  {
   "cell_type": "code",
   "execution_count": 7,
   "metadata": {},
   "outputs": [
    {
     "data": {
      "text/plain": [
       "<function matplotlib.pyplot.show(close=None, block=None)>"
      ]
     },
     "execution_count": 7,
     "metadata": {},
     "output_type": "execute_result"
    },
    {
     "data": {
      "image/png": "[encoded data removed]",
      "text/plain": [
       "<Figure size 640x480 with 1 Axes>"
      ]
     },
     "metadata": {},
     "output_type": "display_data"
    }
   ],
   "source": [
    "# Visualisasi Data\n",
    "# Menggabungkan Data Training dan hasil prediksi\n",
    "absis=(np.concatenate([X_train,X_uji]))\n",
    "ordinat=np.concatenate([Y_train,y_pred])\n",
    "\n",
    "# Plot Total\n",
    "plt.scatter(absis, ordinat)\n",
    "\n",
    "# Plot Proyeksi\n",
    "plt.scatter(tahun, prediksi)\n",
    "plt.xlabel(\"Tahun\")\n",
    "plt.ylabel(\"Populasi {Juta}\")\n",
    "plt.title(\"Proyeksi Jumlah Penduduk Bekasi\")\n",
    "plt.grid()\n",
    "plt.show"
   ]
  }
 ],
 "metadata": {
  "kernelspec": {
   "display_name": "tensorflow",
   "language": "python",
   "name": "python3"
  },
  "language_info": {
   "codemirror_mode": {
    "name": "ipython",
    "version": 3
   },
   "file_extension": ".py",
   "mimetype": "text/x-python",
   "name": "python",
   "nbconvert_exporter": "python",
   "pygments_lexer": "ipython3",
   "version": "3.9.17"
  },
  "orig_nbformat": 4
 },
 "nbformat": 4,
 "nbformat_minor": 2
}
