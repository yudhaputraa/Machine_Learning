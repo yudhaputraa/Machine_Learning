{
 "cells": [
  {
   "attachments": {},
   "cell_type": "markdown",
   "metadata": {},
   "source": [
    "Misalkan kita hendak membuat model yg bisa mengklasifikasikan kendaraan bermotor, apakah termasuk kelompok sedan atau minibus berdasarkan ciri-ciri yg sudah disediakan."
   ]
  },
  {
   "attachments": {},
   "cell_type": "markdown",
   "metadata": {},
   "source": [
    "algoritma yang umum digunakan untuk melatih model Decision Tree, salah satunya bernama CART (Classification and Regression Trees).\n",
    "\n",
    "CART merupakan turunan dari algoritma lain bernama C4.5, sedangkan C4.5 sendiri merupakan turunan dari algoritma ID3 yang diciptakan pada tahun 1980-an.\n",
    "\n",
    "Pada dasarnya, algoritma ID3 melakukan splitting (pemecahan) data ke dalam dua kelompok berdasarkan atribut-atribut yang ada di dalam data, dengan mengukur suatu angka yang disebut entropy, kita bisa artikan entropy sebagai ukuran seberapa acak suatu kelompok data.\n",
    "\n",
    "Entropy yang semakin rendah menunjukkan bahwa kelompok data semakin homogen (berisi data yang sejenis, berasal dari kelas yang sama), dan nilai entropy nol berarti kelompok data sudah homogen sepenuhnya."
   ]
  },
  {
   "attachments": {},
   "cell_type": "markdown",
   "metadata": {},
   "source": [
    "Semakin banyak tingkatan dalam Decision Tree, artinya pohon semakin \"tinggi\" dan proses splitting semakin kompleks, model akan menjadi lebih fit\n",
    "\n",
    "proses yang disebut pruning (pemangkasan) perlu dilakukan. Cabang-cabang yang terlalu panjang dipangkas, dan node-node di tingkat atas dijadikan leaf node.\n",
    "\n",
    "Algoritma ID3 menggunakan pengukuran yang disebut Information Gain. Secara singkat, Information Gain menunjukkan seberapa besar berkurangnya entropy akibat proses splitting di setiap tingkat."
   ]
  },
  {
   "attachments": {},
   "cell_type": "markdown",
   "metadata": {},
   "source": [
    "Entropy adalah ukuran seberapa acak isi sebuah kelas. Entropy bernilai nol bila kelas isinya 100% homogen (sejenis semua) dan bernilai 1 bila isi kelas sepenuhnya acak (tidak ada yang sejenis).\n",
    "\n",
    "gini index, yang menunjukkan proporsi suatu kelas data di dalam satu kelompok data."
   ]
  },
  {
   "attachments": {},
   "cell_type": "markdown",
   "metadata": {},
   "source": [
    "Jika data tidak seimbang proses, maka balancing (penyeimbangan) harus dilakukan dengan cara membuang sebagian data (atau menambah data) dari salah satu kelas."
   ]
  },
  {
   "cell_type": "code",
   "execution_count": 112,
   "metadata": {},
   "outputs": [],
   "source": [
    "import pandas as pd\n",
    "import sklearn.model_selection as ms\n",
    "import sklearn.tree as tree\n",
    "import sklearn.metrics as met\n",
    "import pydotplus as pp\n",
    "import sklearn.ensemble as ens\n",
    "import numpy as np\n",
    "import sklearn.preprocessing as prep\n"
   ]
  },
  {
   "cell_type": "code",
   "execution_count": 113,
   "metadata": {},
   "outputs": [],
   "source": [
    "# melakukan tranformasi berupa encoding(pengkodean) ke angka\n",
    "\n",
    "\n",
    "df1 = pd.read_csv(\"decisiontree.csv\")\n",
    "encoding = {\"mesin\" : {\"bensin\": 0, \"diesel\": 1},\n",
    "            \"penggerak\":{\"depan\":0,\"belakang\":1}}\n",
    "df1.replace(encoding, inplace=True)\n",
    "# inplace=True artinya dataframe langsung diubah secara permanen."
   ]
  },
  {
   "cell_type": "code",
   "execution_count": 114,
   "metadata": {},
   "outputs": [
    {
     "name": "stdout",
     "output_type": "stream",
     "text": [
      "    ID  mesin  bangku  penggerak    label\n",
      "0    1      0       4          0    sedan\n",
      "1    2      0       2          0    sedan\n",
      "2    3      0       8          1  minibus\n",
      "3    4      1       6          0  minibus\n",
      "4    5      0       5          1  minibus\n",
      "5    6      1       8          1  minibus\n",
      "6    7      1       8          1  minibus\n",
      "7    8      0       4          0    sedan\n",
      "8    9      1       7          1  minibus\n",
      "9   10      0       4          0    sedan\n",
      "10  11      0       2          0    sedan\n",
      "11  12      1       6          1  minibus\n",
      "12  13      1       8          0  minibus\n",
      "13  14      0       4          0    sedan\n",
      "14  15      1       2          0    sedan\n",
      "15  16      0       4          0    sedan\n",
      "16  17      0       8          1  minibus\n",
      "17  18      0       4          0    sedan\n",
      "18  19      1       8          1  minibus\n",
      "19  20      1       8          1  minibus\n",
      "20  21      0       4          0    sedan\n",
      "21  22      0       4          0  minibus\n",
      "22  23      1       8          1  minibus\n",
      "23  24      0       4          0    sedan\n",
      "24  25      0       5          1  minibus\n",
      "25  26      0       4          0  minibus\n",
      "26  27      1       8          1  minibus\n",
      "27  28      0       4          0    sedan\n",
      "28  29      0       7          1  minibus\n",
      "29  30      0       4          0    sedan\n",
      "30  31      0       4          0    sedan\n",
      "31  32      0       2          0    sedan\n",
      "32  33      0       8          1  minibus\n",
      "33  34      1       6          0  minibus\n",
      "34  35      0       5          1  minibus\n",
      "35  36      1       8          1  minibus\n",
      "36  37      1       4          1  minibus\n",
      "37  38      0       4          0    sedan\n",
      "38  39      1       5          1  minibus\n",
      "39  40      0       4          0    sedan\n"
     ]
    }
   ],
   "source": [
    "print(df1)"
   ]
  },
  {
   "cell_type": "code",
   "execution_count": 115,
   "metadata": {},
   "outputs": [],
   "source": [
    "X = df1.drop(['ID','label'], axis=1)\n",
    "y = df1['label']"
   ]
  },
  {
   "cell_type": "code",
   "execution_count": 116,
   "metadata": {},
   "outputs": [],
   "source": [
    "X_train, X_test, y_train, y_test = ms.train_test_split(X,y, test_size=0.2)"
   ]
  },
  {
   "attachments": {},
   "cell_type": "markdown",
   "metadata": {},
   "source": [
    "Kita akan melatih model dgn pergunakan entropy sebagai kriteria pengukuran proses splitting."
   ]
  },
  {
   "cell_type": "code",
   "execution_count": 117,
   "metadata": {},
   "outputs": [
    {
     "data": {
      "text/plain": [
       "DecisionTreeClassifier(criterion='entropy', max_depth=5)"
      ]
     },
     "execution_count": 117,
     "metadata": {},
     "output_type": "execute_result"
    }
   ],
   "source": [
    "model1 = tree.DecisionTreeClassifier(criterion='entropy', max_depth=5)\n",
    "model1.fit(X_train, y_train)"
   ]
  },
  {
   "cell_type": "code",
   "execution_count": 118,
   "metadata": {},
   "outputs": [],
   "source": [
    "y_prediksi = model1.predict(X_test)"
   ]
  },
  {
   "cell_type": "code",
   "execution_count": 119,
   "metadata": {},
   "outputs": [
    {
     "name": "stdout",
     "output_type": "stream",
     "text": [
      "['sedan' 'minibus' 'sedan' 'minibus' 'minibus' 'sedan' 'minibus' 'sedan']\n"
     ]
    }
   ],
   "source": [
    "print(y_prediksi)"
   ]
  },
  {
   "cell_type": "code",
   "execution_count": 120,
   "metadata": {},
   "outputs": [
    {
     "name": "stdout",
     "output_type": "stream",
     "text": [
      "0.875\n"
     ]
    }
   ],
   "source": [
    "print(met.accuracy_score(y_test, y_prediksi))"
   ]
  },
  {
   "attachments": {},
   "cell_type": "markdown",
   "metadata": {},
   "source": [
    "## Visualisasi"
   ]
  },
  {
   "attachments": {},
   "cell_type": "markdown",
   "metadata": {},
   "source": [
    "Salah satu keunggulan Decision Tree adalah algoritma ini transparan dalam proses training-nya sehingga memungkinkan kita mempelajari bagaimana tree dapat terbentuk.\n",
    "\n",
    "Graphviz, sebuah open source library untuk visualisasi berbagai macam keperluan.\n",
    "\n",
    "pydotplus yang menjadi penghubung Python dengan Graphviz yang menggunakan format khusus, yaitu DOT language."
   ]
  },
  {
   "attachments": {},
   "cell_type": "markdown",
   "metadata": {},
   "source": [
    "fungsi export_graphviz() utk menggambarkan Decision Tree cukup mudah, keluaran dari fungsi ini adalah dot_data, berisi data berformat khusus DOT yg dipakai oleh Graphviz."
   ]
  },
  {
   "cell_type": "code",
   "execution_count": 121,
   "metadata": {},
   "outputs": [
    {
     "data": {
      "text/plain": [
       "True"
      ]
     },
     "execution_count": 121,
     "metadata": {},
     "output_type": "execute_result"
    }
   ],
   "source": [
    "labels = ['mesin','bangku','penggerak']\n",
    "dot_data = tree.export_graphviz(model1, out_file=None, feature_names=labels, filled = True, rounded = True)\n",
    "graph =pp.graph_from_dot_data(dot_data)\n",
    "graph.write_png('decisiontree.png')"
   ]
  },
  {
   "attachments": {},
   "cell_type": "markdown",
   "metadata": {},
   "source": [
    "## Decision Tree utk Membaut Regression Model"
   ]
  },
  {
   "attachments": {},
   "cell_type": "markdown",
   "metadata": {},
   "source": [
    "algoritma decision tree juga dpt dimanfaatkan utk membuat model Regression Trees, yg berguna memprediksi target dgn sifat kategorikal, misalnya \"tinggi\", \"sedang\",\"rendah\", dan sebagainya."
   ]
  },
  {
   "attachments": {},
   "cell_type": "markdown",
   "metadata": {},
   "source": [
    "## Pengembangan Decision Trees"
   ]
  },
  {
   "attachments": {},
   "cell_type": "markdown",
   "metadata": {},
   "source": [
    "Decision Tree juga termasuk algoritma Machine Learning yang unstable (tidak stabil), artinya perubahan kecil saja terhadap data akan membuat model berubah cukup drastis.\n"
   ]
  },
  {
   "attachments": {},
   "cell_type": "markdown",
   "metadata": {},
   "source": [
    "### Random Forest"
   ]
  },
  {
   "attachments": {},
   "cell_type": "markdown",
   "metadata": {},
   "source": [
    "Ensemble. Metode ini memungkinkan kita menggabungkan\n",
    "beberapa model untuk mendapatkan hasil yang lebih baik daripada\n",
    "manjalankan setiap model sendiri-sendiri\n",
    "\n",
    "Untuk mengatasi kelemahan Decision Tree, metode Ensemble yang\n",
    "disebut Random Forest banyak dimanfaatkan untuk mencapai hasil\n",
    "akurasi yang lebih baik. Disebut forest (hutan) karena berisikan\n",
    "banyak trees (pohon). Prinsipnya adalah membangun beberapa\n",
    "model Decision Tree dan kemudian menggabungkan hasilnya."
   ]
  },
  {
   "attachments": {},
   "cell_type": "markdown",
   "metadata": {},
   "source": [
    "fungsi penggabungan ini berupa mekanisme voting (penentuan dengan suara terbanyak) yang menjadi penentu keluaran mana yang akan dipakai. Setiap tree akan memberikan hak suaranya, dan kelas yang paling populer yang akan dimenangkan sebagai hasil akhir.\n",
    "\n",
    "Random Forest Classifier untuk keperluan membuat\n",
    "Random Forest"
   ]
  },
  {
   "attachments": {},
   "cell_type": "markdown",
   "metadata": {},
   "source": [
    "Contoh  dibawah ini akan membuat model dhn 100 buah Decision Tree(\"estimator\"):"
   ]
  },
  {
   "cell_type": "code",
   "execution_count": 122,
   "metadata": {},
   "outputs": [],
   "source": [
    "rf = ens.RandomForestClassifier(n_estimators = 100)"
   ]
  },
  {
   "cell_type": "code",
   "execution_count": 123,
   "metadata": {},
   "outputs": [
    {
     "name": "stdout",
     "output_type": "stream",
     "text": [
      "    ID  mesin  bangku  penggerak    label\n",
      "0    1      0       4          0    sedan\n",
      "1    2      0       2          0    sedan\n",
      "2    3      0       8          1  minibus\n",
      "3    4      1       6          0  minibus\n",
      "4    5      0       5          1  minibus\n",
      "5    6      1       8          1  minibus\n",
      "6    7      1       8          1  minibus\n",
      "7    8      0       4          0    sedan\n",
      "8    9      1       7          1  minibus\n",
      "9   10      0       4          0    sedan\n",
      "10  11      0       2          0    sedan\n",
      "11  12      1       6          1  minibus\n",
      "12  13      1       8          0  minibus\n",
      "13  14      0       4          0    sedan\n",
      "14  15      1       2          0    sedan\n",
      "15  16      0       4          0    sedan\n",
      "16  17      0       8          1  minibus\n",
      "17  18      0       4          0    sedan\n",
      "18  19      1       8          1  minibus\n",
      "19  20      1       8          1  minibus\n",
      "20  21      0       4          0    sedan\n",
      "21  22      0       4          0  minibus\n",
      "22  23      1       8          1  minibus\n",
      "23  24      0       4          0    sedan\n",
      "24  25      0       5          1  minibus\n",
      "25  26      0       4          0  minibus\n",
      "26  27      1       8          1  minibus\n",
      "27  28      0       4          0    sedan\n",
      "28  29      0       7          1  minibus\n",
      "29  30      0       4          0    sedan\n",
      "30  31      0       4          0    sedan\n",
      "31  32      0       2          0    sedan\n",
      "32  33      0       8          1  minibus\n",
      "33  34      1       6          0  minibus\n",
      "34  35      0       5          1  minibus\n",
      "35  36      1       8          1  minibus\n",
      "36  37      1       4          1  minibus\n",
      "37  38      0       4          0    sedan\n",
      "38  39      1       5          1  minibus\n",
      "39  40      0       4          0    sedan\n"
     ]
    }
   ],
   "source": [
    "df2 = pd.read_csv(\"decisiontree.csv\")\n",
    "encoding = {\"mesin\" : {\"bensin\": 0, \"diesel\": 1},\n",
    "            \"penggerak\":{\"depan\":0,\"belakang\":1}}\n",
    "df2.replace(encoding, inplace=True)\n",
    "# inplace=True artinya dataframe langsung diubah secara permanen.\n",
    "print(df2)\n",
    "X = df2.drop(['ID','label'], axis=1)\n",
    "y = df2['label']\n",
    "X_train, X_test, y_train, y_test = ms.train_test_split(X,y, test_size=0.2)"
   ]
  },
  {
   "cell_type": "code",
   "execution_count": 124,
   "metadata": {},
   "outputs": [
    {
     "data": {
      "text/plain": [
       "RandomForestClassifier()"
      ]
     },
     "execution_count": 124,
     "metadata": {},
     "output_type": "execute_result"
    }
   ],
   "source": [
    "rf.fit(X_train, y_train)"
   ]
  },
  {
   "cell_type": "code",
   "execution_count": 125,
   "metadata": {},
   "outputs": [
    {
     "name": "stdout",
     "output_type": "stream",
     "text": [
      "RandomForestClassifier()\n"
     ]
    }
   ],
   "source": [
    "print(rf)"
   ]
  },
  {
   "attachments": {},
   "cell_type": "markdown",
   "metadata": {},
   "source": [
    "Selanjutnya kita bisa langsung memakai model dgn test dataset utk scoring dan mendapatkan hasilkan prediksi:"
   ]
  },
  {
   "cell_type": "code",
   "execution_count": 126,
   "metadata": {},
   "outputs": [],
   "source": [
    "y_prediksi = rf.predict(X_test)"
   ]
  },
  {
   "attachments": {},
   "cell_type": "markdown",
   "metadata": {},
   "source": [
    "kita ukur seberapa akurat hasil prediksi model ini, dgn cara membandingkan hasil prediksi dgn test dataset :"
   ]
  },
  {
   "cell_type": "code",
   "execution_count": 127,
   "metadata": {},
   "outputs": [
    {
     "name": "stdout",
     "output_type": "stream",
     "text": [
      "1.0\n"
     ]
    }
   ],
   "source": [
    "akurasi = met.accuracy_score(y_test, y_prediksi)\n",
    "print(akurasi)"
   ]
  },
  {
   "attachments": {},
   "cell_type": "markdown",
   "metadata": {},
   "source": [
    "Di bawah ini kita bisa melihat bahwa feature kedua adalah feature yg paling penting dgn accuracy score paling tinggi :"
   ]
  },
  {
   "cell_type": "code",
   "execution_count": 128,
   "metadata": {},
   "outputs": [
    {
     "name": "stdout",
     "output_type": "stream",
     "text": [
      "[0.20493397 0.47717111 0.31789492]\n"
     ]
    }
   ],
   "source": [
    "score = rf.feature_importances_\n",
    "print(score)"
   ]
  },
  {
   "attachments": {},
   "cell_type": "markdown",
   "metadata": {},
   "source": [
    "## Random Forest dengan Dataset yang Lebih Besar"
   ]
  },
  {
   "attachments": {},
   "cell_type": "markdown",
   "metadata": {},
   "source": [
    "Dalam contoh kasus di atas kita menggunakan dataset sederhana. Untuk membuat demonstrasi yang lebih menarik dengan data nyata, kita akan mencoba menggunakan dataset dari UCI Machine Learning yang berjudul \"Adult Data\". Dataset ini berisi sejumlah kecil data sensus penduduk tahun 1994 di Amerika Serikat, yang bisa dipakai untuk membuat classification model yang tujuannya memprediksi apakah seseorang memiliki penghasilan tahunan di atas lima puluh ribu dolar atau di bawah itu, berdasarkan data-data sensus yang ada."
   ]
  },
  {
   "cell_type": "code",
   "execution_count": 129,
   "metadata": {},
   "outputs": [],
   "source": [
    "rf1 = ens.RandomForestClassifier(n_estimators = 100)\n",
    "df3 = pd.read_csv(\"adult_data.csv\")"
   ]
  },
  {
   "cell_type": "code",
   "execution_count": 130,
   "metadata": {},
   "outputs": [
    {
     "data": {
      "text/html": [
       "<div>\n",
       "<style scoped>\n",
       "    .dataframe tbody tr th:only-of-type {\n",
       "        vertical-align: middle;\n",
       "    }\n",
       "\n",
       "    .dataframe tbody tr th {\n",
       "        vertical-align: top;\n",
       "    }\n",
       "\n",
       "    .dataframe thead th {\n",
       "        text-align: right;\n",
       "    }\n",
       "</style>\n",
       "<table border=\"1\" class=\"dataframe\">\n",
       "  <thead>\n",
       "    <tr style=\"text-align: right;\">\n",
       "      <th></th>\n",
       "      <th>age</th>\n",
       "      <th>workclass</th>\n",
       "      <th>fnlwft</th>\n",
       "      <th>education</th>\n",
       "      <th>education_num</th>\n",
       "      <th>marital_status</th>\n",
       "      <th>occupation</th>\n",
       "      <th>relationship</th>\n",
       "      <th>race</th>\n",
       "      <th>sex</th>\n",
       "      <th>capital_gain</th>\n",
       "      <th>capital_loss</th>\n",
       "      <th>hours-per-week</th>\n",
       "      <th>native_country</th>\n",
       "      <th>label</th>\n",
       "    </tr>\n",
       "  </thead>\n",
       "  <tbody>\n",
       "    <tr>\n",
       "      <th>0</th>\n",
       "      <td>39</td>\n",
       "      <td>State-gov</td>\n",
       "      <td>77516</td>\n",
       "      <td>Bachelors</td>\n",
       "      <td>13</td>\n",
       "      <td>Never-married</td>\n",
       "      <td>Adm-clerical</td>\n",
       "      <td>Not-in-family</td>\n",
       "      <td>White</td>\n",
       "      <td>Male</td>\n",
       "      <td>2174</td>\n",
       "      <td>0</td>\n",
       "      <td>40</td>\n",
       "      <td>United-States</td>\n",
       "      <td>&lt;=50K</td>\n",
       "    </tr>\n",
       "    <tr>\n",
       "      <th>1</th>\n",
       "      <td>50</td>\n",
       "      <td>Self-emp-not-inc</td>\n",
       "      <td>83311</td>\n",
       "      <td>Bachelors</td>\n",
       "      <td>13</td>\n",
       "      <td>Married-civ-spouse</td>\n",
       "      <td>Exec-managerial</td>\n",
       "      <td>Husband</td>\n",
       "      <td>White</td>\n",
       "      <td>Male</td>\n",
       "      <td>0</td>\n",
       "      <td>0</td>\n",
       "      <td>13</td>\n",
       "      <td>United-States</td>\n",
       "      <td>&lt;=50K</td>\n",
       "    </tr>\n",
       "    <tr>\n",
       "      <th>2</th>\n",
       "      <td>38</td>\n",
       "      <td>Private</td>\n",
       "      <td>215646</td>\n",
       "      <td>HS-grad</td>\n",
       "      <td>9</td>\n",
       "      <td>Divorced</td>\n",
       "      <td>Handlers-cleaners</td>\n",
       "      <td>Not-in-family</td>\n",
       "      <td>White</td>\n",
       "      <td>Male</td>\n",
       "      <td>0</td>\n",
       "      <td>0</td>\n",
       "      <td>40</td>\n",
       "      <td>United-States</td>\n",
       "      <td>&lt;=50K</td>\n",
       "    </tr>\n",
       "    <tr>\n",
       "      <th>3</th>\n",
       "      <td>53</td>\n",
       "      <td>Private</td>\n",
       "      <td>234721</td>\n",
       "      <td>11th</td>\n",
       "      <td>7</td>\n",
       "      <td>Married-civ-spouse</td>\n",
       "      <td>Handlers-cleaners</td>\n",
       "      <td>Husband</td>\n",
       "      <td>Black</td>\n",
       "      <td>Male</td>\n",
       "      <td>0</td>\n",
       "      <td>0</td>\n",
       "      <td>40</td>\n",
       "      <td>United-States</td>\n",
       "      <td>&lt;=50K</td>\n",
       "    </tr>\n",
       "    <tr>\n",
       "      <th>4</th>\n",
       "      <td>28</td>\n",
       "      <td>Private</td>\n",
       "      <td>338409</td>\n",
       "      <td>Bachelors</td>\n",
       "      <td>13</td>\n",
       "      <td>Married-civ-spouse</td>\n",
       "      <td>Prof-specialty</td>\n",
       "      <td>Wife</td>\n",
       "      <td>Black</td>\n",
       "      <td>Female</td>\n",
       "      <td>0</td>\n",
       "      <td>0</td>\n",
       "      <td>40</td>\n",
       "      <td>Cuba</td>\n",
       "      <td>&lt;=50K</td>\n",
       "    </tr>\n",
       "    <tr>\n",
       "      <th>5</th>\n",
       "      <td>37</td>\n",
       "      <td>Private</td>\n",
       "      <td>284582</td>\n",
       "      <td>Masters</td>\n",
       "      <td>14</td>\n",
       "      <td>Married-civ-spouse</td>\n",
       "      <td>Exec-managerial</td>\n",
       "      <td>Wife</td>\n",
       "      <td>White</td>\n",
       "      <td>Female</td>\n",
       "      <td>0</td>\n",
       "      <td>0</td>\n",
       "      <td>40</td>\n",
       "      <td>United-States</td>\n",
       "      <td>&lt;=50K</td>\n",
       "    </tr>\n",
       "    <tr>\n",
       "      <th>6</th>\n",
       "      <td>49</td>\n",
       "      <td>Private</td>\n",
       "      <td>160187</td>\n",
       "      <td>9th</td>\n",
       "      <td>5</td>\n",
       "      <td>Married-spouse-absent</td>\n",
       "      <td>Other-service</td>\n",
       "      <td>Not-in-family</td>\n",
       "      <td>Black</td>\n",
       "      <td>Female</td>\n",
       "      <td>0</td>\n",
       "      <td>0</td>\n",
       "      <td>16</td>\n",
       "      <td>Jamaica</td>\n",
       "      <td>&lt;=50K</td>\n",
       "    </tr>\n",
       "    <tr>\n",
       "      <th>7</th>\n",
       "      <td>52</td>\n",
       "      <td>Self-emp-not-inc</td>\n",
       "      <td>209642</td>\n",
       "      <td>HS-grad</td>\n",
       "      <td>9</td>\n",
       "      <td>Married-civ-spouse</td>\n",
       "      <td>Exec-managerial</td>\n",
       "      <td>Husband</td>\n",
       "      <td>White</td>\n",
       "      <td>Male</td>\n",
       "      <td>0</td>\n",
       "      <td>0</td>\n",
       "      <td>45</td>\n",
       "      <td>United-States</td>\n",
       "      <td>&gt;50K</td>\n",
       "    </tr>\n",
       "    <tr>\n",
       "      <th>8</th>\n",
       "      <td>31</td>\n",
       "      <td>Private</td>\n",
       "      <td>45781</td>\n",
       "      <td>Masters</td>\n",
       "      <td>14</td>\n",
       "      <td>Never-married</td>\n",
       "      <td>Prof-specialty</td>\n",
       "      <td>Not-in-family</td>\n",
       "      <td>White</td>\n",
       "      <td>Female</td>\n",
       "      <td>14084</td>\n",
       "      <td>0</td>\n",
       "      <td>50</td>\n",
       "      <td>United-States</td>\n",
       "      <td>&gt;50K</td>\n",
       "    </tr>\n",
       "    <tr>\n",
       "      <th>9</th>\n",
       "      <td>42</td>\n",
       "      <td>Private</td>\n",
       "      <td>159449</td>\n",
       "      <td>Bachelors</td>\n",
       "      <td>13</td>\n",
       "      <td>Married-civ-spouse</td>\n",
       "      <td>Exec-managerial</td>\n",
       "      <td>Husband</td>\n",
       "      <td>White</td>\n",
       "      <td>Male</td>\n",
       "      <td>5178</td>\n",
       "      <td>0</td>\n",
       "      <td>40</td>\n",
       "      <td>United-States</td>\n",
       "      <td>&gt;50K</td>\n",
       "    </tr>\n",
       "  </tbody>\n",
       "</table>\n",
       "</div>"
      ],
      "text/plain": [
       "   age          workclass  fnlwft   education  education_num  \\\n",
       "0   39          State-gov   77516   Bachelors             13   \n",
       "1   50   Self-emp-not-inc   83311   Bachelors             13   \n",
       "2   38            Private  215646     HS-grad              9   \n",
       "3   53            Private  234721        11th              7   \n",
       "4   28            Private  338409   Bachelors             13   \n",
       "5   37            Private  284582     Masters             14   \n",
       "6   49            Private  160187         9th              5   \n",
       "7   52   Self-emp-not-inc  209642     HS-grad              9   \n",
       "8   31            Private   45781     Masters             14   \n",
       "9   42            Private  159449   Bachelors             13   \n",
       "\n",
       "           marital_status          occupation    relationship    race  \\\n",
       "0           Never-married        Adm-clerical   Not-in-family   White   \n",
       "1      Married-civ-spouse     Exec-managerial         Husband   White   \n",
       "2                Divorced   Handlers-cleaners   Not-in-family   White   \n",
       "3      Married-civ-spouse   Handlers-cleaners         Husband   Black   \n",
       "4      Married-civ-spouse      Prof-specialty            Wife   Black   \n",
       "5      Married-civ-spouse     Exec-managerial            Wife   White   \n",
       "6   Married-spouse-absent       Other-service   Not-in-family   Black   \n",
       "7      Married-civ-spouse     Exec-managerial         Husband   White   \n",
       "8           Never-married      Prof-specialty   Not-in-family   White   \n",
       "9      Married-civ-spouse     Exec-managerial         Husband   White   \n",
       "\n",
       "       sex  capital_gain  capital_loss  hours-per-week  native_country   label  \n",
       "0     Male          2174             0              40   United-States   <=50K  \n",
       "1     Male             0             0              13   United-States   <=50K  \n",
       "2     Male             0             0              40   United-States   <=50K  \n",
       "3     Male             0             0              40   United-States   <=50K  \n",
       "4   Female             0             0              40            Cuba   <=50K  \n",
       "5   Female             0             0              40   United-States   <=50K  \n",
       "6   Female             0             0              16         Jamaica   <=50K  \n",
       "7     Male             0             0              45   United-States    >50K  \n",
       "8   Female         14084             0              50   United-States    >50K  \n",
       "9     Male          5178             0              40   United-States    >50K  "
      ]
     },
     "execution_count": 130,
     "metadata": {},
     "output_type": "execute_result"
    }
   ],
   "source": [
    "df3.head(10)"
   ]
  },
  {
   "attachments": {},
   "cell_type": "markdown",
   "metadata": {},
   "source": [
    "sebagai upaya untuk memastikan training dataset kita bebas dari data yang kosong (null), panggil fungsi dropna () yang akan membersihkan DataFrame df1 dari data yang kosong:"
   ]
  },
  {
   "cell_type": "code",
   "execution_count": 131,
   "metadata": {},
   "outputs": [],
   "source": [
    "df3.dropna(inplace=True)"
   ]
  },
  {
   "attachments": {},
   "cell_type": "markdown",
   "metadata": {},
   "source": [
    "kita lihat bahwa banyak feature yang berupa nilai nominal (berupa kategori), sehingga kita perlu membuatnya menjadi nilai-nilai continuous berupa kode angka agar model bisa bekerja baik.\n",
    "\n",
    "Kita mulai dari jenis kelamin (\"sex\") yang dikodekan menjadi 0 dan 1 dan ditaruh di kolom baru bernama \"sex code\":"
   ]
  },
  {
   "cell_type": "code",
   "execution_count": 132,
   "metadata": {},
   "outputs": [
    {
     "data": {
      "text/html": [
       "<div>\n",
       "<style scoped>\n",
       "    .dataframe tbody tr th:only-of-type {\n",
       "        vertical-align: middle;\n",
       "    }\n",
       "\n",
       "    .dataframe tbody tr th {\n",
       "        vertical-align: top;\n",
       "    }\n",
       "\n",
       "    .dataframe thead th {\n",
       "        text-align: right;\n",
       "    }\n",
       "</style>\n",
       "<table border=\"1\" class=\"dataframe\">\n",
       "  <thead>\n",
       "    <tr style=\"text-align: right;\">\n",
       "      <th></th>\n",
       "      <th>sex</th>\n",
       "      <th>sex_code</th>\n",
       "    </tr>\n",
       "  </thead>\n",
       "  <tbody>\n",
       "    <tr>\n",
       "      <th>0</th>\n",
       "      <td>Male</td>\n",
       "      <td>1</td>\n",
       "    </tr>\n",
       "    <tr>\n",
       "      <th>1</th>\n",
       "      <td>Male</td>\n",
       "      <td>1</td>\n",
       "    </tr>\n",
       "    <tr>\n",
       "      <th>2</th>\n",
       "      <td>Male</td>\n",
       "      <td>1</td>\n",
       "    </tr>\n",
       "    <tr>\n",
       "      <th>3</th>\n",
       "      <td>Male</td>\n",
       "      <td>1</td>\n",
       "    </tr>\n",
       "    <tr>\n",
       "      <th>4</th>\n",
       "      <td>Female</td>\n",
       "      <td>0</td>\n",
       "    </tr>\n",
       "  </tbody>\n",
       "</table>\n",
       "</div>"
      ],
      "text/plain": [
       "       sex  sex_code\n",
       "0     Male         1\n",
       "1     Male         1\n",
       "2     Male         1\n",
       "3     Male         1\n",
       "4   Female         0"
      ]
     },
     "execution_count": 132,
     "metadata": {},
     "output_type": "execute_result"
    }
   ],
   "source": [
    "gender = prep.LabelEncoder()\n",
    "gender.fit(df3['sex'])\n",
    "df3['sex_code'] = gender.transform(df3['sex'])\n",
    "df3[['sex','sex_code']].head(5)"
   ]
  },
  {
   "attachments": {},
   "cell_type": "markdown",
   "metadata": {},
   "source": [
    "Semua feature nominal lainnya, yaitu \"education\", \"race\", \"workclass\", \"occupation\", \"relationship\", dan \"native\" kita perlakukan sama :"
   ]
  },
  {
   "cell_type": "code",
   "execution_count": 133,
   "metadata": {},
   "outputs": [],
   "source": [
    "education = prep.LabelEncoder()\n",
    "education.fit(df3['education'])\n",
    "df3['education_code'] = education.transform(df3['education'])\n",
    "\n",
    "race = prep.LabelEncoder()\n",
    "race.fit(df3['race'])\n",
    "df3['race_code'] = race.transform(df3['race'])\n",
    "\n",
    "workclass = prep.LabelEncoder()\n",
    "workclass.fit(df3['workclass'])\n",
    "df3['workclass_code'] = workclass.transform(df3['workclass'])\n",
    "\n",
    "\n",
    "occupation = prep.LabelEncoder()\n",
    "occupation.fit(df3['occupation'])\n",
    "df3['occupation_code'] = occupation.transform(df3['occupation'])\n",
    "\n",
    "relationship = prep.LabelEncoder()\n",
    "relationship.fit(df3['relationship'])\n",
    "df3['relationship_code'] = relationship.transform(df3['relationship'])\n",
    "\n",
    "native_country = prep.LabelEncoder()\n",
    "native_country.fit(df3['native_country'])\n",
    "df3['native_country_code'] = native_country.transform(df3['native_country'])\n"
   ]
  },
  {
   "cell_type": "code",
   "execution_count": 134,
   "metadata": {},
   "outputs": [],
   "source": [
    "X = df3.drop(['fnlwft', 'workclass', 'education', 'marital_status', 'occupation', 'relationship', 'race', 'sex', 'native_country', 'label'], axis = 1)\n",
    "y = df3['label']\n"
   ]
  },
  {
   "cell_type": "code",
   "execution_count": 135,
   "metadata": {},
   "outputs": [],
   "source": [
    "X_train, X_test, y_train, y_test = ms.train_test_split(X,y, test_size = 0.2)"
   ]
  },
  {
   "attachments": {},
   "cell_type": "markdown",
   "metadata": {},
   "source": [
    "Selanjutnya proses training dan scoring bisa kita lakukan seperti biasa dgn memanggil fungsi fit() :"
   ]
  },
  {
   "cell_type": "code",
   "execution_count": 137,
   "metadata": {},
   "outputs": [
    {
     "name": "stdout",
     "output_type": "stream",
     "text": [
      "akurasi =  0.5074214351520114\n",
      "              precision    recall  f1-score   support\n",
      "\n",
      "       <=50K       0.60      0.73      0.66      4973\n",
      "      <=50K.       0.29      0.19      0.23      2434\n",
      "        >50K       0.48      0.50      0.49      1581\n",
      "       >50K.       0.18      0.10      0.13       781\n",
      "\n",
      "    accuracy                           0.51      9769\n",
      "   macro avg       0.39      0.38      0.38      9769\n",
      "weighted avg       0.47      0.51      0.48      9769\n",
      "\n",
      "[0.20493397 0.47717111 0.31789492]\n"
     ]
    }
   ],
   "source": [
    "rf1.fit(X_train, y_train)\n",
    "y_prediksi = rf1.predict(X_test)\n",
    "print('akurasi = ', met.accuracy_score(y_test, y_prediksi))\n",
    "print(met.classification_report(y_test, y_prediksi))\n",
    "print(rf.feature_importances_)"
   ]
  },
  {
   "attachments": {},
   "cell_type": "markdown",
   "metadata": {},
   "source": [
    "Satu  hal yang perlu diingat juga adalah angka akurasi bukanlah ukuran unjuk kerja yg terpenting."
   ]
  },
  {
   "attachments": {},
   "cell_type": "markdown",
   "metadata": {},
   "source": [
    "## Kesimpulan"
   ]
  },
  {
   "attachments": {},
   "cell_type": "markdown",
   "metadata": {},
   "source": [
    "Kekuatan utama Decision Tree adalah implementasinya yang tidak sulit.\n",
    "\n",
    "Decision Tree adalah algoritma yang biasanya dicoba pertama kali sebelum mencoba strategi Machine Learning lainnya bilamana ternyata hasilnya kurang memuaskan..\n",
    "\n",
    "Metode Random Forest diciptakan untuk membangun model yang lebih kokoh dengan memanfaatkan banyak model Decision Tree.\n",
    "\n",
    "Selain itu Random Forest juga menghilangkan transparansi proses, tidak seperti Decision Tree di mana keputusan di setiap cabang bisa divisualisasikan dengan jelas.\n",
    "\n",
    "Ada metode Ensemble lain yang disebut dengan Boosting, di mana proses prediksi dilakukan secara bertingkat dan berurutan untuk mendapatkan hasil yang lebih baik. Ini berbeda dengan Random Forest yang membangun banyak model dan dieksekusi secara paralel kemudian menggabungkan hasil-hasilnya. AdaBoost, Gradient Descent dan XGBoost adalah tiga algoritma Boosting yang populer dipakai."
   ]
  },
  {
   "cell_type": "markdown",
   "metadata": {},
   "source": []
  }
 ],
 "metadata": {
  "kernelspec": {
   "display_name": "base",
   "language": "python",
   "name": "python3"
  },
  "language_info": {
   "codemirror_mode": {
    "name": "ipython",
    "version": 3
   },
   "file_extension": ".py",
   "mimetype": "text/x-python",
   "name": "python",
   "nbconvert_exporter": "python",
   "pygments_lexer": "ipython3",
   "version": "3.9.12"
  },
  "orig_nbformat": 4
 },
 "nbformat": 4,
 "nbformat_minor": 2
}
