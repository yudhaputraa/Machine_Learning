{
 "cells": [
  {
   "cell_type": "markdown",
   "metadata": {},
   "source": [
    "Elbow Method:\n",
    "Elbow method digunakan untuk membantu menentukan jumlah optimal dari cluster dalam suatu dataset. Pada dasarnya, algoritma k-means mencoba membagi data menjadi sejumlah cluster tertentu, dan elbow method membantu kita menemukan jumlah cluster yang optimal.\n",
    "\n",
    "Cara kerjanya adalah sebagai berikut:\n",
    "\n",
    "- Jalankan algoritma k-means untuk berbagai jumlah cluster (misalnya, dari 1 hingga k) dan hitung WSS untuk setiap jumlah cluster.\n",
    "- WSS kemudian digambarkan sebagai fungsi dari jumlah cluster.\n",
    "- Pada awalnya, penurunan WSS akan cepat, dan pada suatu titik akan tampak seperti \"siku\" pada grafik (bentuk siku mirip dengan siku pada siku tangan manusia).\n",
    "- Jumlah cluster di mana penurunan WSS melambat dan grafik membentuk siku disebut sebagai \"elbow.\" Jumlah cluster di siku tersebut dianggap sebagai jumlah optimal dari cluster.\n",
    "\n",
    "Within-Cluster Sum of Squares (WSS):\n",
    "WSS adalah metrik evaluasi yang digunakan untuk mengukur sejauh apa data dalam suatu cluster tersebar. Semakin kecil nilai WSS, semakin baik, karena itu berarti titik-titik dalam suatu cluster cenderung lebih dekat satu sama lain.\n",
    "\n",
    "WSS dihitung dengan menjumlahkan kuadrat jarak antara setiap titik dalam suatu cluster dengan pusat clusternya. Dengan kata lain, WSS dapat dianggap sebagai ukuran variabilitas atau sebaran dalam suatu cluster.\n",
    "\n",
    "Dalam konteks elbow method, WSS digunakan untuk membantu menentukan jumlah cluster yang optimal. Jumlah cluster yang baik adalah jumlah di mana WSS minimal, karena itu menunjukkan bahwa setiap titik dalam cluster memiliki jarak yang kecil dari pusat clusternya."
   ]
  }
 ],
 "metadata": {
  "language_info": {
   "name": "python"
  }
 },
 "nbformat": 4,
 "nbformat_minor": 2
}
