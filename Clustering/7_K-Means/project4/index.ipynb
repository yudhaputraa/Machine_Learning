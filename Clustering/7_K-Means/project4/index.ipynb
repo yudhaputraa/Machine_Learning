{
 "cells": [
  {
   "cell_type": "code",
   "execution_count": 1,
   "metadata": {},
   "outputs": [],
   "source": [
    "import numpy as np \n",
    "import matplotlib.pyplot as plt "
   ]
  },
  {
   "cell_type": "code",
   "execution_count": 2,
   "metadata": {},
   "outputs": [
    {
     "data": {
      "image/png": "[encoded data removed]",
      "text/plain": [
       "<Figure size 640x480 with 1 Axes>"
      ]
     },
     "metadata": {},
     "output_type": "display_data"
    }
   ],
   "source": [
    "P = (1.7,1.4)\n",
    "Q = (1.4,2.3)\n",
    "R = (3.3,4.2)\n",
    "S = (5.7,7.8)\n",
    "T = (3.3,5.8)\n",
    "U = (5.5,5.4)\n",
    "V = (4.6,6.5)\n",
    "plt.title('K-Means Clustering')\n",
    "plt.xlabel('X')\n",
    "plt.ylabel('Y')\n",
    "data = np.array([P,Q,R,S,T,U,V])\n",
    "x,y = data.T\n",
    "plt.scatter(x,y,marker='D')\n",
    "plt.axis([0,7,0,10])\n",
    "plt.grid(True)\n",
    "plt.show()"
   ]
  },
  {
   "cell_type": "markdown",
   "metadata": {},
   "source": [
    "Jika anda menjalankan menggunakan terminal maka kursor sepanjang area sumbu koordinat makapython akan menampilkan koordinat kursor mouse secara real time."
   ]
  },
  {
   "cell_type": "code",
   "execution_count": 9,
   "metadata": {},
   "outputs": [],
   "source": [
    "from scipy.spatial import distance\n",
    "from array import *\n",
    "\n",
    "C1 = Q\n",
    "dist_C1_p = distance.euclidean(C1, P)\n",
    "dist_C1_R = distance.euclidean(C1, R)\n",
    "dist_C1_T = distance.euclidean(C1, T)\n",
    "dist_C1_U = distance.euclidean(C1, U)\n",
    "dist_C1_V = distance.euclidean(C1, V)\n",
    "d1 = array('f',[dist_C1_p,dist_C1_R,dist_C1_T,dist_C1_U,dist_C1_V])"
   ]
  },
  {
   "cell_type": "code",
   "execution_count": 10,
   "metadata": {},
   "outputs": [
    {
     "name": "stdout",
     "output_type": "stream",
     "text": [
      "d1[0] 0.9486833214759827\n",
      "d1[1] 2.6870057582855225\n",
      "d1[2] 3.982461452484131\n",
      "d1[3] 5.140038967132568\n",
      "d1[4] 5.2801513671875\n"
     ]
    }
   ],
   "source": [
    "print(\"d1[0]\",d1[0])\n",
    "print(\"d1[1]\",d1[1])\n",
    "print(\"d1[2]\",d1[2])\n",
    "print(\"d1[3]\",d1[3])\n",
    "print(\"d1[4]\",d1[4])"
   ]
  },
  {
   "cell_type": "code",
   "execution_count": 11,
   "metadata": {},
   "outputs": [],
   "source": [
    "C2 = S\n",
    "dist_C2_p = distance.euclidean(C2, P)\n",
    "dist_C2_R = distance.euclidean(C2, R)\n",
    "dist_C2_T = distance.euclidean(C2, T)\n",
    "dist_C2_U = distance.euclidean(C2, U)\n",
    "dist_C2_V = distance.euclidean(C2, V)\n",
    "d2 = array('f',[dist_C2_p,dist_C2_R,dist_C2_T,dist_C2_U,dist_C2_V])"
   ]
  },
  {
   "cell_type": "code",
   "execution_count": 12,
   "metadata": {},
   "outputs": [
    {
     "name": "stdout",
     "output_type": "stream",
     "text": [
      "d2[0] 7.547184944152832\n",
      "d2[1] 4.326661586761475\n",
      "d2[2] 3.1240999698638916\n",
      "d2[3] 2.4083189964294434\n",
      "d2[4] 1.7029386758804321\n"
     ]
    }
   ],
   "source": [
    "print(\"d2[0]\",d2[0])\n",
    "print(\"d2[1]\",d2[1])\n",
    "print(\"d2[2]\",d2[2])\n",
    "print(\"d2[3]\",d2[3])\n",
    "print(\"d2[4]\",d2[4])"
   ]
  },
  {
   "cell_type": "code",
   "execution_count": 14,
   "metadata": {},
   "outputs": [
    {
     "name": "stdout",
     "output_type": "stream",
     "text": [
      "Nilai tengah X dari P dan Q 1.55\n",
      "Nilai tengah X dari P dan Q 1.85\n"
     ]
    }
   ],
   "source": [
    "# mean X pada P dan Q\n",
    "print(\"Nilai tengah X dari P dan Q\",round(np.mean([1.7,1.4]),2))\n",
    "# mean X pada P dan Q\n",
    "print(\"Nilai tengah X dari P dan Q\",round(np.mean([1.4,2.3]),2))"
   ]
  },
  {
   "cell_type": "code",
   "execution_count": 16,
   "metadata": {},
   "outputs": [
    {
     "name": "stdout",
     "output_type": "stream",
     "text": [
      "Nilai tengah X dari S,R,T,U, dan V 4.48\n",
      "Nilai tengah Y dari S,R,T,U, dan V 5.94\n"
     ]
    }
   ],
   "source": [
    "# mean X pada S,R,T,U, dan V\n",
    "print(\"Nilai tengah X dari S,R,T,U, dan V\",round(np.mean([3.3,5.7,3.3,5.5,4.6]),2))\n",
    "# mean Y pada S,R,T,U, dan V\n",
    "print(\"Nilai tengah Y dari S,R,T,U, dan V\",round(np.mean([4.2,7.8,5.8,5.4,6.5]),2))"
   ]
  },
  {
   "cell_type": "code",
   "execution_count": 17,
   "metadata": {},
   "outputs": [],
   "source": [
    "C1 = (1.55,1.85)\n",
    "dist_C1_p = distance.euclidean(C1, P)\n",
    "dist_C1_R = distance.euclidean(C1, R)\n",
    "dist_C1_T = distance.euclidean(C1, T)\n",
    "dist_C1_U = distance.euclidean(C1, U)\n",
    "dist_C1_V = distance.euclidean(C1, V)\n",
    "d1 = array('f',[dist_C1_p,dist_C1_R,dist_C1_T,dist_C1_U,dist_C1_V])"
   ]
  },
  {
   "cell_type": "code",
   "execution_count": 18,
   "metadata": {},
   "outputs": [],
   "source": [
    "C2 = (4.48, 5.94)\n",
    "dist_C2_p = distance.euclidean(C2, P)\n",
    "dist_C2_R = distance.euclidean(C2, R)\n",
    "dist_C2_T = distance.euclidean(C2, T)\n",
    "dist_C2_U = distance.euclidean(C2, U)\n",
    "dist_C2_V = distance.euclidean(C2, V)\n",
    "d2 = array('f',[dist_C2_p,dist_C2_R,dist_C2_T,dist_C2_U,dist_C2_V])"
   ]
  },
  {
   "cell_type": "code",
   "execution_count": 20,
   "metadata": {},
   "outputs": [
    {
     "name": "stdout",
     "output_type": "stream",
     "text": [
      "d1[0] 0.47434166073799133\n",
      "d1[1] 2.9300169944763184\n",
      "d1[2] 4.320301055908203\n",
      "d1[3] 5.310837745666504\n",
      "d1[4] 5.561025142669678\n",
      "d2[0] 5.323532581329346\n",
      "d2[1] 2.102379560470581\n",
      "d2[2] 1.1882760524749756\n",
      "d2[3] 1.154123067855835\n",
      "d2[4] 0.5727128386497498\n"
     ]
    }
   ],
   "source": [
    "print(\"d1[0]\",d1[0])\n",
    "print(\"d1[1]\",d1[1])\n",
    "print(\"d1[2]\",d1[2])\n",
    "print(\"d1[3]\",d1[3])\n",
    "print(\"d1[4]\",d1[4])\n",
    "print(\"d2[0]\",d2[0])\n",
    "print(\"d2[1]\",d2[1])\n",
    "print(\"d2[2]\",d2[2])\n",
    "print(\"d2[3]\",d2[3])\n",
    "print(\"d2[4]\",d2[4])"
   ]
  },
  {
   "cell_type": "code",
   "execution_count": 21,
   "metadata": {},
   "outputs": [
    {
     "data": {
      "image/png": "[encoded data removed]",
      "text/plain": [
       "<Figure size 640x480 with 1 Axes>"
      ]
     },
     "metadata": {},
     "output_type": "display_data"
    }
   ],
   "source": [
    "plt.title('K-Means Clustering')\n",
    "plt.xlabel('X')\n",
    "plt.ylabel('Y')\n",
    "data = np.array([P,Q,R,S,T,U,V,(4.48, 5.94),(1.55,1.85)])\n",
    "x,y = data.T\n",
    "plt.scatter(x,y,marker='D')\n",
    "plt.axis([0,7,0,10])\n",
    "plt.grid(True)\n",
    "plt.show()"
   ]
  },
  {
   "cell_type": "code",
   "execution_count": null,
   "metadata": {},
   "outputs": [],
   "source": []
  }
 ],
 "metadata": {
  "kernelspec": {
   "display_name": "env_data",
   "language": "python",
   "name": "python3"
  },
  "language_info": {
   "codemirror_mode": {
    "name": "ipython",
    "version": 3
   },
   "file_extension": ".py",
   "mimetype": "text/x-python",
   "name": "python",
   "nbconvert_exporter": "python",
   "pygments_lexer": "ipython3",
   "version": "3.11.7"
  }
 },
 "nbformat": 4,
 "nbformat_minor": 2
}
