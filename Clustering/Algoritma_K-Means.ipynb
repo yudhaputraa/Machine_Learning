{
 "cells": [
  {
   "attachments": {},
   "cell_type": "markdown",
   "metadata": {},
   "source": [
    "# Algoritma K-Means"
   ]
  },
  {
   "attachments": {},
   "cell_type": "markdown",
   "metadata": {},
   "source": [
    "## Penjelasan Algoritma K-Means"
   ]
  },
  {
   "attachments": {},
   "cell_type": "markdown",
   "metadata": {},
   "source": [
    "Algoritma K-Means adalah salah satu teknik clustering yang digunakan dalam machine learning untuk mengelompokkan data ke dalam beberapa kelompok atau cluster berdasarkan kemiripan antar data. Tujuan utama dari algoritma K-Means adalah meminimalkan jarak antar data dalam satu kelompok atau cluster dan memaksimalkan jarak antar kelompok atau cluster.\n",
    "\n",
    "Algoritma K-Means bekerja dengan cara menentukan titik-titik pusat cluster (centroid) secara acak dari data yang akan dikelompokkan, lalu memetakan setiap data ke centroid terdekat dan membentuk cluster. Kemudian, centroid baru dihitung sebagai rata-rata dari data-data dalam setiap cluster, dan data-data dipetakan ke centroid baru untuk membentuk cluster baru. Proses ini diulang hingga tidak ada lagi perubahan dalam pembentukan cluster.\n",
    "\n",
    "Algoritma K-Means memiliki beberapa kelebihan, antara lain mudah diimplementasikan dan bekerja dengan baik pada data dengan jumlah cluster yang sedang hingga besar. Namun, algoritma ini juga memiliki beberapa kelemahan, seperti sensitif terhadap titik pusat awal yang dipilih secara acak dan tidak dapat menangani data dengan cluster yang tidak berbentuk bola atau berbentuk tidak teratur.\n",
    "\n",
    "Algoritma K-Means banyak digunakan dalam berbagai bidang, seperti analisis pasar untuk pengelompokkan konsumen, analisis citra untuk pengelompokkan objek dalam citra, dan analisis teks untuk pengelompokkan dokumen berdasarkan topiknya."
   ]
  },
  {
   "cell_type": "code",
   "execution_count": null,
   "metadata": {},
   "outputs": [],
   "source": []
  }
 ],
 "metadata": {
  "language_info": {
   "name": "python"
  },
  "orig_nbformat": 4
 },
 "nbformat": 4,
 "nbformat_minor": 2
}
