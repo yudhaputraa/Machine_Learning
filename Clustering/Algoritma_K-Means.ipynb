{
 "cells": [
  {
   "attachments": {},
   "cell_type": "markdown",
   "metadata": {},
   "source": [
    "# Algoritma K-Means"
   ]
  },
  {
   "attachments": {},
   "cell_type": "markdown",
   "metadata": {},
   "source": [
    "## Penjelasan Algoritma K-Means"
   ]
  },
  {
   "attachments": {},
   "cell_type": "markdown",
   "metadata": {},
   "source": [
    "Algoritma K-Means adalah salah satu teknik clustering yang digunakan dalam machine learning untuk mengelompokkan data ke dalam beberapa kelompok atau cluster berdasarkan kemiripan antar data. Tujuan utama dari algoritma K-Means adalah meminimalkan jarak antar data dalam satu kelompok atau cluster dan memaksimalkan jarak antar kelompok atau cluster.\n",
    "\n",
    "Algoritma K-Means bekerja dengan cara menentukan titik-titik pusat cluster (centroid) secara acak dari data yang akan dikelompokkan, lalu memetakan setiap data ke centroid terdekat dan membentuk cluster. Kemudian, centroid baru dihitung sebagai rata-rata dari data-data dalam setiap cluster, dan data-data dipetakan ke centroid baru untuk membentuk cluster baru. Proses ini diulang hingga tidak ada lagi perubahan dalam pembentukan cluster.\n",
    "\n",
    "Algoritma K-Means memiliki beberapa kelebihan, antara lain mudah diimplementasikan dan bekerja dengan baik pada data dengan jumlah cluster yang sedang hingga besar. Namun, algoritma ini juga memiliki beberapa kelemahan, seperti sensitif terhadap titik pusat awal yang dipilih secara acak dan tidak dapat menangani data dengan cluster yang tidak berbentuk bola atau berbentuk tidak teratur.\n",
    "\n",
    "Algoritma K-Means banyak digunakan dalam berbagai bidang, seperti analisis pasar untuk pengelompokkan konsumen, analisis citra untuk pengelompokkan objek dalam citra, dan analisis teks untuk pengelompokkan dokumen berdasarkan topiknya."
   ]
  },
  {
   "attachments": {},
   "cell_type": "markdown",
   "metadata": {},
   "source": [
    "## Demonstrasi dengan Scikit-learn"
   ]
  },
  {
   "attachments": {},
   "cell_type": "markdown",
   "metadata": {},
   "source": [
    "Untuk mendemonstrasikan K-Means, kita akan akan menggunakan contoh data penerbangan fiktif. Data ini berisi 30 penerbangan yang isinya mencakup tiga kolom, yaitu nomor penerbangan, lama terbang (dalam menit), dan jarak yang ditempuh (dalam kilometer). Dari sini kita akan mencoba melihat pembentukan cluster, yaitu kelompok pertama berisi penerbangan yang jarak dan waktu tempuhnya pendek, serta kelompok kedua berisi penerbangan yang jarak dan waktu tempuhnya panjang."
   ]
  },
  {
   "cell_type": "code",
   "execution_count": 26,
   "metadata": {},
   "outputs": [],
   "source": [
    "import numpy as np\n",
    "import pandas as pd\n",
    "import matplotlib.pyplot as plt\n",
    "import sklearn.cluster as cls"
   ]
  },
  {
   "cell_type": "code",
   "execution_count": 27,
   "metadata": {},
   "outputs": [
    {
     "data": {
      "text/html": [
       "<div>\n",
       "<style scoped>\n",
       "    .dataframe tbody tr th:only-of-type {\n",
       "        vertical-align: middle;\n",
       "    }\n",
       "\n",
       "    .dataframe tbody tr th {\n",
       "        vertical-align: top;\n",
       "    }\n",
       "\n",
       "    .dataframe thead th {\n",
       "        text-align: right;\n",
       "    }\n",
       "</style>\n",
       "<table border=\"1\" class=\"dataframe\">\n",
       "  <thead>\n",
       "    <tr style=\"text-align: right;\">\n",
       "      <th></th>\n",
       "      <th>Tanggal</th>\n",
       "      <th>id</th>\n",
       "      <th>dari</th>\n",
       "      <th>tujuan</th>\n",
       "      <th>jarak</th>\n",
       "      <th>waktu</th>\n",
       "    </tr>\n",
       "  </thead>\n",
       "  <tbody>\n",
       "    <tr>\n",
       "      <th>0</th>\n",
       "      <td>2019-01-20</td>\n",
       "      <td>G201</td>\n",
       "      <td>Jakarta</td>\n",
       "      <td>Bali</td>\n",
       "      <td>136</td>\n",
       "      <td>50</td>\n",
       "    </tr>\n",
       "    <tr>\n",
       "      <th>1</th>\n",
       "      <td>2019-01-20</td>\n",
       "      <td>G014</td>\n",
       "      <td>Medan</td>\n",
       "      <td>Jakarta</td>\n",
       "      <td>44</td>\n",
       "      <td>120</td>\n",
       "    </tr>\n",
       "    <tr>\n",
       "      <th>2</th>\n",
       "      <td>2019-01-20</td>\n",
       "      <td>B046</td>\n",
       "      <td>Jakarta</td>\n",
       "      <td>Yogyakarta</td>\n",
       "      <td>155</td>\n",
       "      <td>50</td>\n",
       "    </tr>\n",
       "    <tr>\n",
       "      <th>3</th>\n",
       "      <td>2019-01-20</td>\n",
       "      <td>G100</td>\n",
       "      <td>Jakarta</td>\n",
       "      <td>Surabaya</td>\n",
       "      <td>90</td>\n",
       "      <td>60</td>\n",
       "    </tr>\n",
       "    <tr>\n",
       "      <th>4</th>\n",
       "      <td>2019-01-20</td>\n",
       "      <td>G781</td>\n",
       "      <td>Jakarta</td>\n",
       "      <td>Yogyakarta</td>\n",
       "      <td>158</td>\n",
       "      <td>50</td>\n",
       "    </tr>\n",
       "  </tbody>\n",
       "</table>\n",
       "</div>"
      ],
      "text/plain": [
       "      Tanggal     id      dari       tujuan  jarak  waktu\n",
       "0  2019-01-20   G201   Jakarta         Bali    136     50\n",
       "1  2019-01-20   G014     Medan      Jakarta     44    120\n",
       "2  2019-01-20   B046   Jakarta   Yogyakarta    155     50\n",
       "3  2019-01-20   G100   Jakarta     Surabaya     90     60\n",
       "4  2019-01-20   G781   Jakarta   Yogyakarta    158     50"
      ]
     },
     "execution_count": 27,
     "metadata": {},
     "output_type": "execute_result"
    }
   ],
   "source": [
    "df1 = pd.read_csv('penerbangan1.csv')\n",
    "df1.head()"
   ]
  },
  {
   "cell_type": "code",
   "execution_count": 28,
   "metadata": {},
   "outputs": [
    {
     "data": {
      "image/png": "[encoded data removed]",
      "text/plain": [
       "<Figure size 432x288 with 1 Axes>"
      ]
     },
     "metadata": {
      "needs_background": "light"
     },
     "output_type": "display_data"
    }
   ],
   "source": [
    "X = df1['waktu']\n",
    "y = df1['jarak']\n",
    "plt.scatter(X,y)\n",
    "plt.show()"
   ]
  },
  {
   "cell_type": "code",
   "execution_count": 29,
   "metadata": {},
   "outputs": [
    {
     "data": {
      "text/plain": [
       "KMeans(n_clusters=2)"
      ]
     },
     "execution_count": 29,
     "metadata": {},
     "output_type": "execute_result"
    }
   ],
   "source": [
    "df2 = df1[['jarak', 'waktu']]\n",
    "kmeans = cls.KMeans(n_clusters=2)\n",
    "kmeans.fit(df2)"
   ]
  },
  {
   "cell_type": "code",
   "execution_count": 30,
   "metadata": {},
   "outputs": [
    {
     "name": "stdout",
     "output_type": "stream",
     "text": [
      "[[128.33333333  63.88888889]\n",
      " [179.6        121.        ]]\n"
     ]
    }
   ],
   "source": [
    "centroids = kmeans.cluster_centers_\n",
    "print(centroids)"
   ]
  },
  {
   "cell_type": "code",
   "execution_count": 31,
   "metadata": {},
   "outputs": [],
   "source": [
    "centroid_X = centroids[:,0]\n",
    "centroid_Y = centroids[:,1]"
   ]
  },
  {
   "cell_type": "code",
   "execution_count": 36,
   "metadata": {},
   "outputs": [
    {
     "data": {
      "image/png": "[encoded data removed]",
      "text/plain": [
       "<Figure size 432x288 with 1 Axes>"
      ]
     },
     "metadata": {
      "needs_background": "light"
     },
     "output_type": "display_data"
    }
   ],
   "source": [
    "plt.scatter(centroid_X, centroid_Y,  marker='X', s=200)\n",
    "plt.show()"
   ]
  },
  {
   "cell_type": "code",
   "execution_count": 33,
   "metadata": {},
   "outputs": [
    {
     "name": "stdout",
     "output_type": "stream",
     "text": [
      "[0 0 0 0 0 0 1 1 0 0 0 0 1 0 0 1 0 1 0 1 0 1 1 1 0 1 0 0]\n"
     ]
    }
   ],
   "source": [
    "label = kmeans.labels_\n",
    "print(label)\n"
   ]
  },
  {
   "cell_type": "code",
   "execution_count": 35,
   "metadata": {},
   "outputs": [
    {
     "data": {
      "image/png": "[encoded data removed]",
      "text/plain": [
       "<Figure size 432x288 with 1 Axes>"
      ]
     },
     "metadata": {
      "needs_background": "light"
     },
     "output_type": "display_data"
    }
   ],
   "source": [
    "plt.scatter(X,y, cmap = 'rainbow')\n",
    "plt.show()"
   ]
  },
  {
   "cell_type": "code",
   "execution_count": 37,
   "metadata": {},
   "outputs": [
    {
     "data": {
      "text/plain": [
       "44036.177777777775"
      ]
     },
     "execution_count": 37,
     "metadata": {},
     "output_type": "execute_result"
    }
   ],
   "source": [
    "kmeans.inertia_"
   ]
  },
  {
   "cell_type": "code",
   "execution_count": 38,
   "metadata": {},
   "outputs": [
    {
     "name": "stderr",
     "output_type": "stream",
     "text": [
      "c:\\Users\\ASUS\\anaconda3\\lib\\site-packages\\sklearn\\cluster\\_kmeans.py:1036: UserWarning: KMeans is known to have a memory leak on Windows with MKL, when there are less chunks than available threads. You can avoid it by setting the environment variable OMP_NUM_THREADS=1.\n",
      "  warnings.warn(\n"
     ]
    },
    {
     "data": {
      "image/png": "[encoded data removed]",
      "text/plain": [
       "<Figure size 432x288 with 1 Axes>"
      ]
     },
     "metadata": {
      "needs_background": "light"
     },
     "output_type": "display_data"
    }
   ],
   "source": [
    "jarak_total = []\n",
    "K = range(1,10)\n",
    "for k in K:\n",
    "    kmeans = cls.KMeans(n_clusters=k)\n",
    "    kmeans.fit(df2)\n",
    "    jarak_total.append(kmeans.inertia_)\n",
    "plt.plot(K, jarak_total)\n",
    "plt.xlabel('k')\n",
    "plt.show()"
   ]
  }
 ],
 "metadata": {
  "kernelspec": {
   "display_name": "base",
   "language": "python",
   "name": "python3"
  },
  "language_info": {
   "codemirror_mode": {
    "name": "ipython",
    "version": 3
   },
   "file_extension": ".py",
   "mimetype": "text/x-python",
   "name": "python",
   "nbconvert_exporter": "python",
   "pygments_lexer": "ipython3",
   "version": "3.9.12"
  },
  "orig_nbformat": 4
 },
 "nbformat": 4,
 "nbformat_minor": 2
}
