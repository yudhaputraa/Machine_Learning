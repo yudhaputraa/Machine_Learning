{
 "cells": [
  {
   "attachments": {},
   "cell_type": "markdown",
   "metadata": {},
   "source": [
    "Misalkan kita hendak membuat model yg bisa mengklasifikasikan kendaraan bermotor, apakah termasuk kelompok sedan atau minibus berdasarkan ciri-ciri yg sudah disediakan."
   ]
  },
  {
   "attachments": {},
   "cell_type": "markdown",
   "metadata": {},
   "source": [
    "algoritma yang umum digunakan untuk melatih model Decision Tree, salah satunya bernama CART (Classification and Regression Trees).\n",
    "\n",
    "CART merupakan turunan dari algoritma lain bernama C4.5, sedangkan C4.5 sendiri merupakan turunan dari algoritma ID3 yang diciptakan pada tahun 1980-an.\n",
    "\n",
    "Pada dasarnya, algoritma ID3 melakukan splitting (pemecahan) data ke dalam dua kelompok berdasarkan atribut-atribut yang ada di dalam data, dengan mengukur suatu angka yang disebut entropy, kita bisa artikan entropy sebagai ukuran seberapa acak suatu kelompok data.\n",
    "\n",
    "Entropy yang semakin rendah menunjukkan bahwa kelompok data semakin homogen (berisi data yang sejenis, berasal dari kelas yang sama), dan nilai entropy nol berarti kelompok data sudah homogen sepenuhnya."
   ]
  },
  {
   "attachments": {},
   "cell_type": "markdown",
   "metadata": {},
   "source": [
    "Semakin banyak tingkatan dalam Decision Tree, artinya pohon semakin \"tinggi\" dan proses splitting semakin kompleks, model akan menjadi lebih fit\n",
    "\n",
    "proses yang disebut pruning (pemangkasan) perlu dilakukan. Cabang-cabang yang terlalu panjang dipangkas, dan node-node di tingkat atas dijadikan leaf node.\n",
    "\n",
    "Algoritma ID3 menggunakan pengukuran yang disebut Information Gain. Secara singkat, Information Gain menunjukkan seberapa besar berkurangnya entropy akibat proses splitting di setiap tingkat."
   ]
  },
  {
   "attachments": {},
   "cell_type": "markdown",
   "metadata": {},
   "source": [
    "Entropy adalah ukuran seberapa acak isi sebuah kelas. Entropy bernilai nol bila kelas isinya 100% homogen (sejenis semua) dan bernilai 1 bila isi kelas sepenuhnya acak (tidak ada yang sejenis).\n",
    "\n",
    "gini index, yang menunjukkan proporsi suatu kelas data di dalam satu kelompok data."
   ]
  },
  {
   "attachments": {},
   "cell_type": "markdown",
   "metadata": {},
   "source": [
    "Jika data tidak seimbang proses, maka balancing (penyeimbangan) harus dilakukan dengan cara membuang sebagian data (atau menambah data) dari salah satu kelas."
   ]
  },
  {
   "cell_type": "code",
   "execution_count": 1,
   "metadata": {},
   "outputs": [],
   "source": [
    "# melakukan tranformasi berupa encoding(pengkodean) ke angka\n",
    "import pandas as pd\n",
    "import sklearn.model_selection as ms\n",
    "import sklearn.tree as tree\n",
    "import sklearn.metrics as met\n",
    "import pydotplus as pp\n",
    "\n",
    "df1 = pd.read_csv(\"decisiontree.csv\")\n",
    "encoding = {\"mesin\" : {\"bensin\": 0, \"diesel\": 1},\n",
    "            \"penggerak\":{\"depan\":0,\"belakang\":1}}\n",
    "df1.replace(encoding, inplace=True)\n",
    "# inplace=True artinya dataframe langsung diubah secara permanen."
   ]
  },
  {
   "cell_type": "code",
   "execution_count": 2,
   "metadata": {},
   "outputs": [
    {
     "name": "stdout",
     "output_type": "stream",
     "text": [
      "    ID  mesin  bangku  penggerak    label\n",
      "0    1      0       4          0    sedan\n",
      "1    2      0       2          0    sedan\n",
      "2    3      0       8          1  minibus\n",
      "3    4      1       6          0  minibus\n",
      "4    5      0       5          1  minibus\n",
      "5    6      1       8          1  minibus\n",
      "6    7      1       8          1  minibus\n",
      "7    8      0       4          0    sedan\n",
      "8    9      1       7          1  minibus\n",
      "9   10      0       4          0    sedan\n",
      "10  11      0       2          0    sedan\n",
      "11  12      1       6          1  minibus\n",
      "12  13      1       8          0  minibus\n",
      "13  14      0       4          0    sedan\n",
      "14  15      1       2          0    sedan\n",
      "15  16      0       4          0    sedan\n",
      "16  17      0       8          1  minibus\n",
      "17  18      0       4          0    sedan\n",
      "18  19      1       8          1  minibus\n",
      "19  20      1       8          1  minibus\n",
      "20  21      0       4          0    sedan\n",
      "21  22      0       4          0  minibus\n",
      "22  23      1       8          1  minibus\n",
      "23  24      0       4          0    sedan\n",
      "24  25      0       5          1  minibus\n",
      "25  26      0       4          0  minibus\n",
      "26  27      1       8          1  minibus\n",
      "27  28      0       4          0    sedan\n",
      "28  29      0       7          1  minibus\n",
      "29  30      0       4          0    sedan\n",
      "30  31      0       4          0    sedan\n",
      "31  32      0       2          0    sedan\n",
      "32  33      0       8          1  minibus\n",
      "33  34      1       6          0  minibus\n",
      "34  35      0       5          1  minibus\n",
      "35  36      1       8          1  minibus\n",
      "36  37      1       4          1  minibus\n",
      "37  38      0       4          0    sedan\n",
      "38  39      1       5          1  minibus\n",
      "39  40      0       4          0    sedan\n"
     ]
    }
   ],
   "source": [
    "print(df1)"
   ]
  },
  {
   "cell_type": "code",
   "execution_count": 3,
   "metadata": {},
   "outputs": [],
   "source": [
    "X = df1.drop(['ID','label'], axis=1)\n",
    "y = df1['label']"
   ]
  },
  {
   "cell_type": "code",
   "execution_count": 4,
   "metadata": {},
   "outputs": [],
   "source": [
    "X_train, X_test, y_train, y_test = ms.train_test_split(X,y, test_size=0.2)"
   ]
  },
  {
   "attachments": {},
   "cell_type": "markdown",
   "metadata": {},
   "source": [
    "Kita akan melatih model dgn pergunakan entropy sebagai kriteria pengukuran proses splitting."
   ]
  },
  {
   "cell_type": "code",
   "execution_count": 5,
   "metadata": {},
   "outputs": [
    {
     "data": {
      "text/plain": [
       "DecisionTreeClassifier(criterion='entropy', max_depth=5)"
      ]
     },
     "execution_count": 5,
     "metadata": {},
     "output_type": "execute_result"
    }
   ],
   "source": [
    "model1 = tree.DecisionTreeClassifier(criterion='entropy', max_depth=5)\n",
    "model1.fit(X_train, y_train)"
   ]
  },
  {
   "cell_type": "code",
   "execution_count": 6,
   "metadata": {},
   "outputs": [],
   "source": [
    "y_prediksi = model1.predict(X_test)"
   ]
  },
  {
   "cell_type": "code",
   "execution_count": 7,
   "metadata": {},
   "outputs": [
    {
     "name": "stdout",
     "output_type": "stream",
     "text": [
      "['minibus' 'minibus' 'sedan' 'minibus' 'sedan' 'sedan' 'minibus' 'sedan']\n"
     ]
    }
   ],
   "source": [
    "print(y_prediksi)"
   ]
  },
  {
   "cell_type": "code",
   "execution_count": 8,
   "metadata": {},
   "outputs": [
    {
     "name": "stdout",
     "output_type": "stream",
     "text": [
      "0.875\n"
     ]
    }
   ],
   "source": [
    "print(met.accuracy_score(y_test, y_prediksi))"
   ]
  },
  {
   "attachments": {},
   "cell_type": "markdown",
   "metadata": {},
   "source": [
    "## Visualisasi"
   ]
  },
  {
   "attachments": {},
   "cell_type": "markdown",
   "metadata": {},
   "source": [
    "Salah satu keunggulan Decision Tree adalah algoritma ini transparan dalam proses training-nya sehingga memungkinkan kita mempelajari bagaimana tree dapat terbentuk.\n",
    "\n",
    "Graphviz, sebuah open source library untuk visualisasi berbagai macam keperluan.\n",
    "\n",
    "pydotplus yang menjadi penghubung Python dengan Graphviz yang menggunakan format khusus, yaitu DOT language."
   ]
  },
  {
   "attachments": {},
   "cell_type": "markdown",
   "metadata": {},
   "source": [
    "fungsi export_graphviz() utk menggambarkan Decision Tree cukup mudah, keluaran dari fungsi ini adalah dot_data, berisi data berformat khusus DOT yg dipakai oleh Graphviz."
   ]
  },
  {
   "cell_type": "code",
   "execution_count": 9,
   "metadata": {},
   "outputs": [
    {
     "data": {
      "text/plain": [
       "True"
      ]
     },
     "execution_count": 9,
     "metadata": {},
     "output_type": "execute_result"
    }
   ],
   "source": [
    "labels = ['mesin','bangku','penggerak']\n",
    "dot_data = tree.export_graphviz(model1, out_file=None, feature_names=labels, filled = True, rounded = True)\n",
    "graph =pp.graph_from_dot_data(dot_data)\n",
    "graph.write_png('decisiontree.png')"
   ]
  },
  {
   "attachments": {},
   "cell_type": "markdown",
   "metadata": {},
   "source": [
    "## Decision Tree utk Membaut Regression Model"
   ]
  },
  {
   "attachments": {},
   "cell_type": "markdown",
   "metadata": {},
   "source": [
    "algoritma decision tree juga dpt dimanfaatkan utk membuat model Regression Trees, yg berguna memprediksi target dgn sifat kategorikal, misalnya \"tinggi\", \"sedang\",\"rendah\", dan sebagainya."
   ]
  },
  {
   "attachments": {},
   "cell_type": "markdown",
   "metadata": {},
   "source": [
    "## Pengembangan Decision Trees"
   ]
  },
  {
   "attachments": {},
   "cell_type": "markdown",
   "metadata": {},
   "source": [
    "Decision Tree juga termasuk algoritma Machine Learning yang unstable (tidak stabil), artinya perubahan kecil saja terhadap data akan membuat model berubah cukup drastis.\n"
   ]
  },
  {
   "attachments": {},
   "cell_type": "markdown",
   "metadata": {},
   "source": [
    "### Random Forest"
   ]
  },
  {
   "attachments": {},
   "cell_type": "markdown",
   "metadata": {},
   "source": [
    "Ensemble. Metode ini memungkinkan kita menggabungkan\n",
    "beberapa model untuk mendapatkan hasil yang lebih baik daripada\n",
    "manjalankan setiap model sendiri-sendiri\n",
    "\n",
    "Untuk mengatasi kelemahan Decision Tree, metode Ensemble yang\n",
    "disebut Random Forest banyak dimanfaatkan untuk mencapai hasil\n",
    "akurasi yang lebih baik. Disebut forest (hutan) karena berisikan\n",
    "banyak trees (pohon). Prinsipnya adalah membangun beberapa\n",
    "model Decision Tree dan kemudian menggabungkan hasilnya."
   ]
  },
  {
   "attachments": {},
   "cell_type": "markdown",
   "metadata": {},
   "source": [
    "fungsi penggabungan ini berupa mekanisme voting (penentuan dengan suara terbanyak) yang menjadi penentu keluaran mana yang akan dipakai. Setiap tree akan memberikan hak suaranya, dan kelas yang paling populer yang akan dimenangkan sebagai hasil akhir.\n",
    "\n",
    "Random Forest Classifier untuk keperluan membuat\n",
    "Random Forest"
   ]
  },
  {
   "attachments": {},
   "cell_type": "markdown",
   "metadata": {},
   "source": [
    "Contoh  dibawah ini akan membuat model dhn 100 buah Decision Tree(\"estimator\"):"
   ]
  },
  {
   "cell_type": "code",
   "execution_count": 11,
   "metadata": {},
   "outputs": [],
   "source": [
    "import sklearn.ensemble as ens\n",
    "rf = ens.RandomForestClassifier(n_estimators = 100)"
   ]
  },
  {
   "cell_type": "code",
   "execution_count": 12,
   "metadata": {},
   "outputs": [
    {
     "name": "stdout",
     "output_type": "stream",
     "text": [
      "    ID  mesin  bangku  penggerak    label\n",
      "0    1      0       4          0    sedan\n",
      "1    2      0       2          0    sedan\n",
      "2    3      0       8          1  minibus\n",
      "3    4      1       6          0  minibus\n",
      "4    5      0       5          1  minibus\n",
      "5    6      1       8          1  minibus\n",
      "6    7      1       8          1  minibus\n",
      "7    8      0       4          0    sedan\n",
      "8    9      1       7          1  minibus\n",
      "9   10      0       4          0    sedan\n",
      "10  11      0       2          0    sedan\n",
      "11  12      1       6          1  minibus\n",
      "12  13      1       8          0  minibus\n",
      "13  14      0       4          0    sedan\n",
      "14  15      1       2          0    sedan\n",
      "15  16      0       4          0    sedan\n",
      "16  17      0       8          1  minibus\n",
      "17  18      0       4          0    sedan\n",
      "18  19      1       8          1  minibus\n",
      "19  20      1       8          1  minibus\n",
      "20  21      0       4          0    sedan\n",
      "21  22      0       4          0  minibus\n",
      "22  23      1       8          1  minibus\n",
      "23  24      0       4          0    sedan\n",
      "24  25      0       5          1  minibus\n",
      "25  26      0       4          0  minibus\n",
      "26  27      1       8          1  minibus\n",
      "27  28      0       4          0    sedan\n",
      "28  29      0       7          1  minibus\n",
      "29  30      0       4          0    sedan\n",
      "30  31      0       4          0    sedan\n",
      "31  32      0       2          0    sedan\n",
      "32  33      0       8          1  minibus\n",
      "33  34      1       6          0  minibus\n",
      "34  35      0       5          1  minibus\n",
      "35  36      1       8          1  minibus\n",
      "36  37      1       4          1  minibus\n",
      "37  38      0       4          0    sedan\n",
      "38  39      1       5          1  minibus\n",
      "39  40      0       4          0    sedan\n"
     ]
    }
   ],
   "source": [
    "df2 = pd.read_csv(\"decisiontree.csv\")\n",
    "encoding = {\"mesin\" : {\"bensin\": 0, \"diesel\": 1},\n",
    "            \"penggerak\":{\"depan\":0,\"belakang\":1}}\n",
    "df2.replace(encoding, inplace=True)\n",
    "# inplace=True artinya dataframe langsung diubah secara permanen.\n",
    "print(df2)\n",
    "X = df2.drop(['ID','label'], axis=1)\n",
    "y = df2['label']\n",
    "X_train, X_test, y_train, y_test = ms.train_test_split(X,y, test_size=0.2)"
   ]
  },
  {
   "cell_type": "code",
   "execution_count": 13,
   "metadata": {},
   "outputs": [
    {
     "data": {
      "text/plain": [
       "RandomForestClassifier()"
      ]
     },
     "execution_count": 13,
     "metadata": {},
     "output_type": "execute_result"
    }
   ],
   "source": [
    "rf.fit(X_train, y_train)"
   ]
  },
  {
   "cell_type": "code",
   "execution_count": 14,
   "metadata": {},
   "outputs": [
    {
     "name": "stdout",
     "output_type": "stream",
     "text": [
      "RandomForestClassifier()\n"
     ]
    }
   ],
   "source": [
    "print(rf)"
   ]
  },
  {
   "attachments": {},
   "cell_type": "markdown",
   "metadata": {},
   "source": [
    "Selanjutnya kita bisa langsung memakai model dgn test dataset utk scoring dan mendapatkan hasilkan prediksi:"
   ]
  },
  {
   "cell_type": "code",
   "execution_count": 15,
   "metadata": {},
   "outputs": [],
   "source": [
    "y_prediksi = rf.predict(X_test)"
   ]
  },
  {
   "attachments": {},
   "cell_type": "markdown",
   "metadata": {},
   "source": [
    "kita ukur seberapa akurat hasil prediksi model ini, dgn cara membandingkan hasil prediksi dgn test dataset :"
   ]
  },
  {
   "cell_type": "code",
   "execution_count": 16,
   "metadata": {},
   "outputs": [
    {
     "name": "stdout",
     "output_type": "stream",
     "text": [
      "0.875\n"
     ]
    }
   ],
   "source": [
    "akurasi = met.accuracy_score(y_test, y_prediksi)\n",
    "print(akurasi)"
   ]
  },
  {
   "attachments": {},
   "cell_type": "markdown",
   "metadata": {},
   "source": [
    "Di bawah ini kita bisa melihat bahwa feature kedua adalah feature yg paling penting dgn accuracy score paling tinggi :"
   ]
  },
  {
   "cell_type": "code",
   "execution_count": 17,
   "metadata": {},
   "outputs": [
    {
     "name": "stdout",
     "output_type": "stream",
     "text": [
      "[0.13885745 0.58759215 0.2735504 ]\n"
     ]
    }
   ],
   "source": [
    "score = rf.feature_importances_\n",
    "print(score)"
   ]
  },
  {
   "cell_type": "code",
   "execution_count": null,
   "metadata": {},
   "outputs": [],
   "source": []
  }
 ],
 "metadata": {
  "kernelspec": {
   "display_name": "base",
   "language": "python",
   "name": "python3"
  },
  "language_info": {
   "codemirror_mode": {
    "name": "ipython",
    "version": 3
   },
   "file_extension": ".py",
   "mimetype": "text/x-python",
   "name": "python",
   "nbconvert_exporter": "python",
   "pygments_lexer": "ipython3",
   "version": "3.9.12"
  },
  "orig_nbformat": 4
 },
 "nbformat": 4,
 "nbformat_minor": 2
}
