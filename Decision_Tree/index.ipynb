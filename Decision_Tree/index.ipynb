{
 "cells": [
  {
   "attachments": {},
   "cell_type": "markdown",
   "metadata": {},
   "source": [
    "Misalkan kita hendak membuat model yg bisa mengklasifikasikan kendaraan bermotor, apakah termasuk kelompok sedan atau minibus berdasarkan ciri-ciri yg sudah disediakan."
   ]
  },
  {
   "attachments": {},
   "cell_type": "markdown",
   "metadata": {},
   "source": [
    "algoritma yang umum digunakan untuk melatih model Decision Tree, salah satunya bernama CART (Classification and Regression Trees).\n",
    "\n",
    "CART merupakan turunan dari algoritma lain bernama C4.5, sedangkan C4.5 sendiri merupakan turunan dari algoritma ID3 yang diciptakan pada tahun 1980-an.\n",
    "\n",
    "Pada dasarnya, algoritma ID3 melakukan splitting (pemecahan) data ke dalam dua kelompok berdasarkan atribut-atribut yang ada di dalam data, dengan mengukur suatu angka yang disebut entropy, kita bisa artikan entropy sebagai ukuran seberapa acak suatu kelompok data.\n",
    "\n",
    "Entropy yang semakin rendah menunjukkan bahwa kelompok data semakin homogen (berisi data yang sejenis, berasal dari kelas yang sama), dan nilai entropy nol berarti kelompok data sudah homogen sepenuhnya."
   ]
  },
  {
   "attachments": {},
   "cell_type": "markdown",
   "metadata": {},
   "source": [
    "Semakin banyak tingkatan dalam Decision Tree, artinya pohon semakin \"tinggi\" dan proses splitting semakin kompleks, model akan menjadi lebih fit\n",
    "\n",
    "proses yang disebut pruning (pemangkasan) perlu dilakukan. Cabang-cabang yang terlalu panjang dipangkas, dan node-node di tingkat atas dijadikan leaf node.\n",
    "\n",
    "Algoritma ID3 menggunakan pengukuran yang disebut Information Gain. Secara singkat, Information Gain menunjukkan seberapa besar berkurangnya entropy akibat proses splitting di setiap tingkat."
   ]
  },
  {
   "cell_type": "code",
   "execution_count": null,
   "metadata": {},
   "outputs": [],
   "source": []
  }
 ],
 "metadata": {
  "kernelspec": {
   "display_name": "base",
   "language": "python",
   "name": "python3"
  },
  "language_info": {
   "name": "python",
   "version": "3.9.12"
  },
  "orig_nbformat": 4
 },
 "nbformat": 4,
 "nbformat_minor": 2
}
