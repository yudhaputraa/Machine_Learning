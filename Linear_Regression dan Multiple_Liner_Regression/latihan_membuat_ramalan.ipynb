{
 "cells": [
  {
   "attachments": {},
   "cell_type": "markdown",
   "metadata": {},
   "source": [
    "Mengunakan env anaconda"
   ]
  },
  {
   "cell_type": "code",
   "execution_count": 20,
   "metadata": {},
   "outputs": [
    {
     "data": {
      "text/html": [
       "<div>\n",
       "<style scoped>\n",
       "    .dataframe tbody tr th:only-of-type {\n",
       "        vertical-align: middle;\n",
       "    }\n",
       "\n",
       "    .dataframe tbody tr th {\n",
       "        vertical-align: top;\n",
       "    }\n",
       "\n",
       "    .dataframe thead th {\n",
       "        text-align: right;\n",
       "    }\n",
       "</style>\n",
       "<table border=\"1\" class=\"dataframe\">\n",
       "  <thead>\n",
       "    <tr style=\"text-align: right;\">\n",
       "      <th></th>\n",
       "      <th>Liter</th>\n",
       "      <th>Penumpang</th>\n",
       "      <th>Bagasi</th>\n",
       "      <th>Kecepatan</th>\n",
       "      <th>RPM</th>\n",
       "      <th>Suhu</th>\n",
       "      <th>Kilometer</th>\n",
       "    </tr>\n",
       "  </thead>\n",
       "  <tbody>\n",
       "    <tr>\n",
       "      <th>0</th>\n",
       "      <td>20</td>\n",
       "      <td>1</td>\n",
       "      <td>0</td>\n",
       "      <td>42</td>\n",
       "      <td>3000</td>\n",
       "      <td>29</td>\n",
       "      <td>142</td>\n",
       "    </tr>\n",
       "    <tr>\n",
       "      <th>1</th>\n",
       "      <td>25</td>\n",
       "      <td>2</td>\n",
       "      <td>15</td>\n",
       "      <td>50</td>\n",
       "      <td>4000</td>\n",
       "      <td>36</td>\n",
       "      <td>177</td>\n",
       "    </tr>\n",
       "    <tr>\n",
       "      <th>2</th>\n",
       "      <td>20</td>\n",
       "      <td>4</td>\n",
       "      <td>10</td>\n",
       "      <td>50</td>\n",
       "      <td>3000</td>\n",
       "      <td>24</td>\n",
       "      <td>144</td>\n",
       "    </tr>\n",
       "    <tr>\n",
       "      <th>3</th>\n",
       "      <td>30</td>\n",
       "      <td>5</td>\n",
       "      <td>25</td>\n",
       "      <td>50</td>\n",
       "      <td>3000</td>\n",
       "      <td>18</td>\n",
       "      <td>203</td>\n",
       "    </tr>\n",
       "    <tr>\n",
       "      <th>4</th>\n",
       "      <td>40</td>\n",
       "      <td>1</td>\n",
       "      <td>40</td>\n",
       "      <td>50</td>\n",
       "      <td>3200</td>\n",
       "      <td>30</td>\n",
       "      <td>273</td>\n",
       "    </tr>\n",
       "    <tr>\n",
       "      <th>...</th>\n",
       "      <td>...</td>\n",
       "      <td>...</td>\n",
       "      <td>...</td>\n",
       "      <td>...</td>\n",
       "      <td>...</td>\n",
       "      <td>...</td>\n",
       "      <td>...</td>\n",
       "    </tr>\n",
       "    <tr>\n",
       "      <th>59</th>\n",
       "      <td>31</td>\n",
       "      <td>3</td>\n",
       "      <td>0</td>\n",
       "      <td>50</td>\n",
       "      <td>3000</td>\n",
       "      <td>30</td>\n",
       "      <td>203</td>\n",
       "    </tr>\n",
       "    <tr>\n",
       "      <th>60</th>\n",
       "      <td>37</td>\n",
       "      <td>1</td>\n",
       "      <td>0</td>\n",
       "      <td>50</td>\n",
       "      <td>3000</td>\n",
       "      <td>22</td>\n",
       "      <td>241</td>\n",
       "    </tr>\n",
       "    <tr>\n",
       "      <th>61</th>\n",
       "      <td>23</td>\n",
       "      <td>2</td>\n",
       "      <td>10</td>\n",
       "      <td>50</td>\n",
       "      <td>3000</td>\n",
       "      <td>30</td>\n",
       "      <td>142</td>\n",
       "    </tr>\n",
       "    <tr>\n",
       "      <th>62</th>\n",
       "      <td>36</td>\n",
       "      <td>2</td>\n",
       "      <td>0</td>\n",
       "      <td>50</td>\n",
       "      <td>3000</td>\n",
       "      <td>20</td>\n",
       "      <td>241</td>\n",
       "    </tr>\n",
       "    <tr>\n",
       "      <th>63</th>\n",
       "      <td>23</td>\n",
       "      <td>1</td>\n",
       "      <td>15</td>\n",
       "      <td>50</td>\n",
       "      <td>3000</td>\n",
       "      <td>30</td>\n",
       "      <td>142</td>\n",
       "    </tr>\n",
       "  </tbody>\n",
       "</table>\n",
       "<p>64 rows × 7 columns</p>\n",
       "</div>"
      ],
      "text/plain": [
       "    Liter  Penumpang  Bagasi  Kecepatan   RPM  Suhu  Kilometer\n",
       "0      20          1       0         42  3000    29        142\n",
       "1      25          2      15         50  4000    36        177\n",
       "2      20          4      10         50  3000    24        144\n",
       "3      30          5      25         50  3000    18        203\n",
       "4      40          1      40         50  3200    30        273\n",
       "..    ...        ...     ...        ...   ...   ...        ...\n",
       "59     31          3       0         50  3000    30        203\n",
       "60     37          1       0         50  3000    22        241\n",
       "61     23          2      10         50  3000    30        142\n",
       "62     36          2       0         50  3000    20        241\n",
       "63     23          1      15         50  3000    30        142\n",
       "\n",
       "[64 rows x 7 columns]"
      ]
     },
     "execution_count": 20,
     "metadata": {},
     "output_type": "execute_result"
    }
   ],
   "source": [
    "import pandas as pd\n",
    "import matplotlib.pyplot as plt\n",
    "import sklearn.linear_model as lm\n",
    "df1 = pd.read_csv('bensin2.csv')\n",
    "df1"
   ]
  },
  {
   "attachments": {},
   "cell_type": "markdown",
   "metadata": {},
   "source": [
    "# Liner Regression"
   ]
  },
  {
   "attachments": {},
   "cell_type": "markdown",
   "metadata": {},
   "source": [
    "## cleaning data"
   ]
  },
  {
   "cell_type": "code",
   "execution_count": 21,
   "metadata": {},
   "outputs": [
    {
     "data": {
      "text/html": [
       "<div>\n",
       "<style scoped>\n",
       "    .dataframe tbody tr th:only-of-type {\n",
       "        vertical-align: middle;\n",
       "    }\n",
       "\n",
       "    .dataframe tbody tr th {\n",
       "        vertical-align: top;\n",
       "    }\n",
       "\n",
       "    .dataframe thead th {\n",
       "        text-align: right;\n",
       "    }\n",
       "</style>\n",
       "<table border=\"1\" class=\"dataframe\">\n",
       "  <thead>\n",
       "    <tr style=\"text-align: right;\">\n",
       "      <th></th>\n",
       "      <th>Liter</th>\n",
       "      <th>Penumpang</th>\n",
       "      <th>Bagasi</th>\n",
       "      <th>Kecepatan</th>\n",
       "      <th>Suhu</th>\n",
       "      <th>Kilometer</th>\n",
       "    </tr>\n",
       "  </thead>\n",
       "  <tbody>\n",
       "    <tr>\n",
       "      <th>count</th>\n",
       "      <td>64.000000</td>\n",
       "      <td>64.000000</td>\n",
       "      <td>64.000000</td>\n",
       "      <td>64.000</td>\n",
       "      <td>64.000000</td>\n",
       "      <td>64.000000</td>\n",
       "    </tr>\n",
       "    <tr>\n",
       "      <th>mean</th>\n",
       "      <td>26.640625</td>\n",
       "      <td>2.406250</td>\n",
       "      <td>8.593750</td>\n",
       "      <td>49.875</td>\n",
       "      <td>28.812500</td>\n",
       "      <td>181.312500</td>\n",
       "    </tr>\n",
       "    <tr>\n",
       "      <th>std</th>\n",
       "      <td>7.314624</td>\n",
       "      <td>1.560614</td>\n",
       "      <td>13.197786</td>\n",
       "      <td>1.000</td>\n",
       "      <td>3.351735</td>\n",
       "      <td>50.082115</td>\n",
       "    </tr>\n",
       "    <tr>\n",
       "      <th>min</th>\n",
       "      <td>6.000000</td>\n",
       "      <td>1.000000</td>\n",
       "      <td>0.000000</td>\n",
       "      <td>42.000</td>\n",
       "      <td>18.000000</td>\n",
       "      <td>32.000000</td>\n",
       "    </tr>\n",
       "    <tr>\n",
       "      <th>25%</th>\n",
       "      <td>23.000000</td>\n",
       "      <td>1.000000</td>\n",
       "      <td>0.000000</td>\n",
       "      <td>50.000</td>\n",
       "      <td>29.000000</td>\n",
       "      <td>147.000000</td>\n",
       "    </tr>\n",
       "    <tr>\n",
       "      <th>50%</th>\n",
       "      <td>25.000000</td>\n",
       "      <td>2.000000</td>\n",
       "      <td>0.000000</td>\n",
       "      <td>50.000</td>\n",
       "      <td>30.000000</td>\n",
       "      <td>177.000000</td>\n",
       "    </tr>\n",
       "    <tr>\n",
       "      <th>75%</th>\n",
       "      <td>30.000000</td>\n",
       "      <td>4.000000</td>\n",
       "      <td>15.000000</td>\n",
       "      <td>50.000</td>\n",
       "      <td>30.000000</td>\n",
       "      <td>212.000000</td>\n",
       "    </tr>\n",
       "    <tr>\n",
       "      <th>max</th>\n",
       "      <td>45.000000</td>\n",
       "      <td>6.000000</td>\n",
       "      <td>60.000000</td>\n",
       "      <td>50.000</td>\n",
       "      <td>36.000000</td>\n",
       "      <td>278.000000</td>\n",
       "    </tr>\n",
       "  </tbody>\n",
       "</table>\n",
       "</div>"
      ],
      "text/plain": [
       "           Liter  Penumpang     Bagasi  Kecepatan       Suhu   Kilometer\n",
       "count  64.000000  64.000000  64.000000     64.000  64.000000   64.000000\n",
       "mean   26.640625   2.406250   8.593750     49.875  28.812500  181.312500\n",
       "std     7.314624   1.560614  13.197786      1.000   3.351735   50.082115\n",
       "min     6.000000   1.000000   0.000000     42.000  18.000000   32.000000\n",
       "25%    23.000000   1.000000   0.000000     50.000  29.000000  147.000000\n",
       "50%    25.000000   2.000000   0.000000     50.000  30.000000  177.000000\n",
       "75%    30.000000   4.000000  15.000000     50.000  30.000000  212.000000\n",
       "max    45.000000   6.000000  60.000000     50.000  36.000000  278.000000"
      ]
     },
     "execution_count": 21,
     "metadata": {},
     "output_type": "execute_result"
    }
   ],
   "source": [
    "df1.describe()"
   ]
  },
  {
   "cell_type": "code",
   "execution_count": 22,
   "metadata": {},
   "outputs": [
    {
     "data": {
      "text/plain": [
       "Liter        64\n",
       "Penumpang    64\n",
       "Bagasi       64\n",
       "Kecepatan    64\n",
       "RPM          64\n",
       "Suhu         64\n",
       "Kilometer    64\n",
       "dtype: int64"
      ]
     },
     "execution_count": 22,
     "metadata": {},
     "output_type": "execute_result"
    }
   ],
   "source": [
    "df1.count()"
   ]
  },
  {
   "cell_type": "code",
   "execution_count": 23,
   "metadata": {},
   "outputs": [
    {
     "data": {
      "text/plain": [
       "Liter           6\n",
       "Penumpang       1\n",
       "Bagasi          0\n",
       "Kecepatan      42\n",
       "RPM          2200\n",
       "Suhu           18\n",
       "Kilometer      32\n",
       "dtype: object"
      ]
     },
     "execution_count": 23,
     "metadata": {},
     "output_type": "execute_result"
    }
   ],
   "source": [
    "df1.min()\n"
   ]
  },
  {
   "cell_type": "code",
   "execution_count": 24,
   "metadata": {},
   "outputs": [
    {
     "data": {
      "text/plain": [
       "Liter          45\n",
       "Penumpang       6\n",
       "Bagasi         60\n",
       "Kecepatan      50\n",
       "RPM          4600\n",
       "Suhu           36\n",
       "Kilometer     278\n",
       "dtype: object"
      ]
     },
     "execution_count": 24,
     "metadata": {},
     "output_type": "execute_result"
    }
   ],
   "source": [
    "df1.max()"
   ]
  },
  {
   "cell_type": "code",
   "execution_count": 25,
   "metadata": {},
   "outputs": [
    {
     "data": {
      "text/plain": [
       "(64, 7)"
      ]
     },
     "execution_count": 25,
     "metadata": {},
     "output_type": "execute_result"
    }
   ],
   "source": [
    "df1.shape"
   ]
  },
  {
   "cell_type": "code",
   "execution_count": 26,
   "metadata": {},
   "outputs": [
    {
     "data": {
      "text/plain": [
       "Liter        0\n",
       "Penumpang    0\n",
       "Bagasi       0\n",
       "Kecepatan    0\n",
       "RPM          0\n",
       "Suhu         0\n",
       "Kilometer    0\n",
       "dtype: int64"
      ]
     },
     "execution_count": 26,
     "metadata": {},
     "output_type": "execute_result"
    }
   ],
   "source": [
    "df1.isna().sum()"
   ]
  },
  {
   "cell_type": "code",
   "execution_count": 27,
   "metadata": {},
   "outputs": [
    {
     "data": {
      "text/html": [
       "<div>\n",
       "<style scoped>\n",
       "    .dataframe tbody tr th:only-of-type {\n",
       "        vertical-align: middle;\n",
       "    }\n",
       "\n",
       "    .dataframe tbody tr th {\n",
       "        vertical-align: top;\n",
       "    }\n",
       "\n",
       "    .dataframe thead th {\n",
       "        text-align: right;\n",
       "    }\n",
       "</style>\n",
       "<table border=\"1\" class=\"dataframe\">\n",
       "  <thead>\n",
       "    <tr style=\"text-align: right;\">\n",
       "      <th></th>\n",
       "      <th>Liter</th>\n",
       "      <th>Penumpang</th>\n",
       "      <th>Bagasi</th>\n",
       "      <th>Kecepatan</th>\n",
       "      <th>RPM</th>\n",
       "      <th>Suhu</th>\n",
       "      <th>Kilometer</th>\n",
       "    </tr>\n",
       "  </thead>\n",
       "  <tbody>\n",
       "    <tr>\n",
       "      <th>46</th>\n",
       "      <td>6</td>\n",
       "      <td>2</td>\n",
       "      <td>0</td>\n",
       "      <td>50</td>\n",
       "      <td>3000</td>\n",
       "      <td>30</td>\n",
       "      <td>32</td>\n",
       "    </tr>\n",
       "  </tbody>\n",
       "</table>\n",
       "</div>"
      ],
      "text/plain": [
       "    Liter  Penumpang  Bagasi  Kecepatan   RPM  Suhu  Kilometer\n",
       "46      6          2       0         50  3000    30         32"
      ]
     },
     "execution_count": 27,
     "metadata": {},
     "output_type": "execute_result"
    }
   ],
   "source": [
    "kk = df1[df1['Kilometer'] <= 50] \n",
    "kk"
   ]
  },
  {
   "attachments": {},
   "cell_type": "markdown",
   "metadata": {},
   "source": [
    "## Memisahkan Training Data dan Test Data"
   ]
  },
  {
   "attachments": {},
   "cell_type": "markdown",
   "metadata": {},
   "source": [
    "- train_test_split() untuk memisahkan training dataset dan test dataset.\n",
    "- mengunaan parameter test_size = 0.2 yg artinya 20% dari seluruh isi DataFrame df1 akan dijadikan test dataset.\n"
   ]
  },
  {
   "cell_type": "code",
   "execution_count": 28,
   "metadata": {},
   "outputs": [
    {
     "name": "stdout",
     "output_type": "stream",
     "text": [
      "51 13\n"
     ]
    }
   ],
   "source": [
    "import numpy as np\n",
    "import sklearn.model_selection as ms\n",
    "\n",
    "liter = df1[['Liter']]\n",
    "kilometer = df1[[\"Kilometer\"]]\n",
    "X_train, X_test, y_train, y_test = ms.train_test_split(liter,kilometer, test_size = 0.2, random_state=0)\n",
    "print(X_train.size , X_test.size)"
   ]
  },
  {
   "attachments": {},
   "cell_type": "markdown",
   "metadata": {},
   "source": [
    "## Visualisasi"
   ]
  },
  {
   "cell_type": "code",
   "execution_count": 29,
   "metadata": {},
   "outputs": [
    {
     "data": {
      "image/png": "[encoded data removed]",
      "text/plain": [
       "<Figure size 432x288 with 1 Axes>"
      ]
     },
     "metadata": {
      "needs_background": "light"
     },
     "output_type": "display_data"
    }
   ],
   "source": [
    "plt.scatter(X_train, y_train, edgecolor='r')\n",
    "plt.xlabel('Liter')\n",
    "plt.ylabel('Kilometer')\n",
    "plt.title('Konsumsi Bahan Bakar')\n",
    "plt.show()"
   ]
  },
  {
   "cell_type": "code",
   "execution_count": 30,
   "metadata": {},
   "outputs": [
    {
     "data": {
      "text/plain": [
       "<function matplotlib.pyplot.show(close=None, block=None)>"
      ]
     },
     "execution_count": 30,
     "metadata": {},
     "output_type": "execute_result"
    },
    {
     "data": {
      "image/png": "[encoded data removed]",
      "text/plain": [
       "<Figure size 432x288 with 1 Axes>"
      ]
     },
     "metadata": {
      "needs_background": "light"
     },
     "output_type": "display_data"
    }
   ],
   "source": [
    "plt.scatter(X_train, y_train, edgecolor='r')\n",
    "plt.xlabel('Liter')\n",
    "plt.ylabel('Kilometer')\n",
    "plt.title('Konsumsi Bahan Bakar')\n",
    "x1 = np.linspace(0,45)\n",
    "y1 = 4 + 7 * x1\n",
    "plt.plot(x1,y1)\n",
    "plt.show"
   ]
  },
  {
   "attachments": {},
   "cell_type": "markdown",
   "metadata": {},
   "source": [
    "## Melatih Model"
   ]
  },
  {
   "cell_type": "code",
   "execution_count": 31,
   "metadata": {},
   "outputs": [
    {
     "data": {
      "text/plain": [
       "LinearRegression()"
      ]
     },
     "execution_count": 31,
     "metadata": {},
     "output_type": "execute_result"
    }
   ],
   "source": [
    "model1 = lm.LinearRegression()\n",
    "model1.fit(X_train, y_train)"
   ]
  },
  {
   "attachments": {},
   "cell_type": "markdown",
   "metadata": {},
   "source": [
    "code di atas adalah Ordinary Least Square(OLS) utk dpt menetukan a dan b yg tepat biasanya digunakan di bidang statistik."
   ]
  },
  {
   "cell_type": "code",
   "execution_count": 33,
   "metadata": {},
   "outputs": [
    {
     "data": {
      "text/plain": [
       "array([[6.58504804]])"
      ]
     },
     "execution_count": 33,
     "metadata": {},
     "output_type": "execute_result"
    }
   ],
   "source": [
    "model1.coef_"
   ]
  },
  {
   "cell_type": "code",
   "execution_count": 34,
   "metadata": {},
   "outputs": [
    {
     "data": {
      "text/plain": [
       "array([6.46820707])"
      ]
     },
     "execution_count": 34,
     "metadata": {},
     "output_type": "execute_result"
    }
   ],
   "source": [
    "model1.intercept_"
   ]
  },
  {
   "attachments": {},
   "cell_type": "markdown",
   "metadata": {},
   "source": [
    "sekarang mengetahui slope dan intercept, sehingga persamaan garis lurus yg kita miliki menjadi y = 6,468 + 6,585x."
   ]
  },
  {
   "cell_type": "code",
   "execution_count": 35,
   "metadata": {},
   "outputs": [
    {
     "data": {
      "text/plain": [
       "<function matplotlib.pyplot.show(close=None, block=None)>"
      ]
     },
     "execution_count": 35,
     "metadata": {},
     "output_type": "execute_result"
    },
    {
     "data": {
      "image/png": "[encoded data removed]",
      "text/plain": [
       "<Figure size 432x288 with 1 Axes>"
      ]
     },
     "metadata": {
      "needs_background": "light"
     },
     "output_type": "display_data"
    }
   ],
   "source": [
    "plt.scatter(X_train, y_train, edgecolor='r')\n",
    "plt.xlabel('Liter')\n",
    "plt.ylabel('Kilometer')\n",
    "plt.title('Konsumsi Bahan Bakar')\n",
    "x1 = np.linspace(0,45)\n",
    "y1 = 6.46 + 6.67 * x1\n",
    "plt.plot(x1,y1)\n",
    "plt.show"
   ]
  },
  {
   "attachments": {},
   "cell_type": "markdown",
   "metadata": {},
   "source": [
    "## Scoring model"
   ]
  },
  {
   "cell_type": "code",
   "execution_count": 36,
   "metadata": {},
   "outputs": [
    {
     "name": "stdout",
     "output_type": "stream",
     "text": [
      "0.9028472177237074\n"
     ]
    }
   ],
   "source": [
    "r2 = model1.score(X_test, y_test)\n",
    "print(r2)"
   ]
  },
  {
   "cell_type": "code",
   "execution_count": 37,
   "metadata": {},
   "outputs": [
    {
     "name": "stdout",
     "output_type": "stream",
     "text": [
      "[[401.57108948]]\n"
     ]
    },
    {
     "name": "stderr",
     "output_type": "stream",
     "text": [
      "c:\\Users\\ASUS\\anaconda3\\lib\\site-packages\\sklearn\\base.py:450: UserWarning: X does not have valid feature names, but LinearRegression was fitted with feature names\n",
      "  warnings.warn(\n"
     ]
    }
   ],
   "source": [
    "jarak = model1.predict([[60]])\n",
    "print(jarak)"
   ]
  },
  {
   "cell_type": "code",
   "execution_count": 38,
   "metadata": {},
   "outputs": [
    {
     "name": "stdout",
     "output_type": "stream",
     "text": [
      "[[118.41402375]\n",
      " [204.01964827]\n",
      " [124.99907179]\n",
      " [157.92431199]\n",
      " [105.24392767]\n",
      " [138.16916787]\n",
      " [236.94488847]\n",
      " [204.01964827]\n",
      " [171.09440807]\n",
      " [243.52993651]\n",
      " [171.09440807]\n",
      " [138.16916787]\n",
      " [190.84955219]]\n"
     ]
    }
   ],
   "source": [
    "prediksi = model1.predict(X_test)\n",
    "print(prediksi)"
   ]
  },
  {
   "cell_type": "code",
   "execution_count": 39,
   "metadata": {},
   "outputs": [
    {
     "name": "stdout",
     "output_type": "stream",
     "text": [
      "    Kilometer\n",
      "45         72\n",
      "29        204\n",
      "43        143\n",
      "61        142\n",
      "34        102\n",
      "33        144\n",
      "31        242\n",
      "40        201\n",
      "26        175\n",
      "62        241\n",
      "22        166\n",
      "2         144\n",
      "11        191\n"
     ]
    }
   ],
   "source": [
    "print(y_test)"
   ]
  },
  {
   "cell_type": "code",
   "execution_count": null,
   "metadata": {},
   "outputs": [],
   "source": []
  },
  {
   "cell_type": "code",
   "execution_count": null,
   "metadata": {},
   "outputs": [],
   "source": []
  },
  {
   "attachments": {},
   "cell_type": "markdown",
   "metadata": {},
   "source": [
    "# Multiple Liner Regression"
   ]
  },
  {
   "attachments": {},
   "cell_type": "markdown",
   "metadata": {},
   "source": [
    "tujuannya sama yaitu mencari nilai koefisien slope dan intercept yg menghasilkan tingkat error sekecil mungkin.\n",
    "dalam multiple liner regression, persamaannya menjadi y = a + bx + bx + bx + ...bx"
   ]
  },
  {
   "cell_type": "code",
   "execution_count": 1,
   "metadata": {},
   "outputs": [
    {
     "data": {
      "text/html": [
       "<div>\n",
       "<style scoped>\n",
       "    .dataframe tbody tr th:only-of-type {\n",
       "        vertical-align: middle;\n",
       "    }\n",
       "\n",
       "    .dataframe tbody tr th {\n",
       "        vertical-align: top;\n",
       "    }\n",
       "\n",
       "    .dataframe thead th {\n",
       "        text-align: right;\n",
       "    }\n",
       "</style>\n",
       "<table border=\"1\" class=\"dataframe\">\n",
       "  <thead>\n",
       "    <tr style=\"text-align: right;\">\n",
       "      <th></th>\n",
       "      <th>Liter</th>\n",
       "      <th>Penumpang</th>\n",
       "      <th>Bagasi</th>\n",
       "      <th>Kecepatan</th>\n",
       "      <th>Suhu</th>\n",
       "      <th>Kilometer</th>\n",
       "    </tr>\n",
       "  </thead>\n",
       "  <tbody>\n",
       "    <tr>\n",
       "      <th>Liter</th>\n",
       "      <td>1.000000</td>\n",
       "      <td>-0.114934</td>\n",
       "      <td>0.092514</td>\n",
       "      <td>0.115283</td>\n",
       "      <td>0.043823</td>\n",
       "      <td>0.975661</td>\n",
       "    </tr>\n",
       "    <tr>\n",
       "      <th>Penumpang</th>\n",
       "      <td>-0.114934</td>\n",
       "      <td>1.000000</td>\n",
       "      <td>0.078270</td>\n",
       "      <td>0.114424</td>\n",
       "      <td>-0.061070</td>\n",
       "      <td>-0.114363</td>\n",
       "    </tr>\n",
       "    <tr>\n",
       "      <th>Bagasi</th>\n",
       "      <td>0.092514</td>\n",
       "      <td>0.078270</td>\n",
       "      <td>1.000000</td>\n",
       "      <td>0.082686</td>\n",
       "      <td>-0.056291</td>\n",
       "      <td>0.081485</td>\n",
       "    </tr>\n",
       "    <tr>\n",
       "      <th>Kecepatan</th>\n",
       "      <td>0.115283</td>\n",
       "      <td>0.114424</td>\n",
       "      <td>0.082686</td>\n",
       "      <td>1.000000</td>\n",
       "      <td>-0.007104</td>\n",
       "      <td>0.099678</td>\n",
       "    </tr>\n",
       "    <tr>\n",
       "      <th>Suhu</th>\n",
       "      <td>0.043823</td>\n",
       "      <td>-0.061070</td>\n",
       "      <td>-0.056291</td>\n",
       "      <td>-0.007104</td>\n",
       "      <td>1.000000</td>\n",
       "      <td>0.032789</td>\n",
       "    </tr>\n",
       "    <tr>\n",
       "      <th>Kilometer</th>\n",
       "      <td>0.975661</td>\n",
       "      <td>-0.114363</td>\n",
       "      <td>0.081485</td>\n",
       "      <td>0.099678</td>\n",
       "      <td>0.032789</td>\n",
       "      <td>1.000000</td>\n",
       "    </tr>\n",
       "  </tbody>\n",
       "</table>\n",
       "</div>"
      ],
      "text/plain": [
       "              Liter  Penumpang    Bagasi  Kecepatan      Suhu  Kilometer\n",
       "Liter      1.000000  -0.114934  0.092514   0.115283  0.043823   0.975661\n",
       "Penumpang -0.114934   1.000000  0.078270   0.114424 -0.061070  -0.114363\n",
       "Bagasi     0.092514   0.078270  1.000000   0.082686 -0.056291   0.081485\n",
       "Kecepatan  0.115283   0.114424  0.082686   1.000000 -0.007104   0.099678\n",
       "Suhu       0.043823  -0.061070 -0.056291  -0.007104  1.000000   0.032789\n",
       "Kilometer  0.975661  -0.114363  0.081485   0.099678  0.032789   1.000000"
      ]
     },
     "execution_count": 1,
     "metadata": {},
     "output_type": "execute_result"
    }
   ],
   "source": [
    "import pandas as pd\n",
    "import matplotlib.pyplot as plt\n",
    "import sklearn.linear_model as lm\n",
    "import sklearn.model_selection as ms\n",
    "\n",
    "df2 = pd.read_csv('bensin2.csv')\n",
    "df2.corr(method='pearson')"
   ]
  },
  {
   "cell_type": "code",
   "execution_count": 2,
   "metadata": {},
   "outputs": [
    {
     "data": {
      "text/plain": [
       "LinearRegression()"
      ]
     },
     "execution_count": 2,
     "metadata": {},
     "output_type": "execute_result"
    }
   ],
   "source": [
    "X = df2[['Liter','Penumpang','Suhu','Kecepatan']]\n",
    "y = df2[['Kilometer']]\n",
    "X_train, X_test, y_train, y_test = ms.train_test_split(X, y, test_size=0.1, random_state=0)\n",
    "model1 = lm.LinearRegression()\n",
    "model1.fit(X_train, y_train)"
   ]
  },
  {
   "cell_type": "code",
   "execution_count": 3,
   "metadata": {},
   "outputs": [
    {
     "name": "stdout",
     "output_type": "stream",
     "text": [
      "intercept= [31.46091016]\n",
      "slope= [[ 6.57091536 -0.02084605 -0.03329528 -0.47363829]]\n"
     ]
    }
   ],
   "source": [
    "print('intercept=', model1.intercept_)\n",
    "print('slope=', model1.coef_)"
   ]
  },
  {
   "attachments": {},
   "cell_type": "markdown",
   "metadata": {},
   "source": [
    "### Model"
   ]
  },
  {
   "cell_type": "code",
   "execution_count": 8,
   "metadata": {},
   "outputs": [
    {
     "data": {
      "text/plain": [
       "LinearRegression()"
      ]
     },
     "execution_count": 8,
     "metadata": {},
     "output_type": "execute_result"
    }
   ],
   "source": [
    "import pandas as pd\n",
    "import numpy as np\n",
    "import sklearn.model_selection as ms\n",
    "df3 = pd.read_csv('bensin2.csv')\n",
    "X = df3[['Liter','Penumpang','Suhu','Kecepatan']]\n",
    "y = df3[['Kilometer']]\n",
    "X_train, X_test, y_train, y_test = ms.train_test_split(X, y, test_size=0.1, random_state=0)\n",
    "model1.fit(X_train, y_train)"
   ]
  },
  {
   "cell_type": "code",
   "execution_count": 9,
   "metadata": {},
   "outputs": [
    {
     "name": "stdout",
     "output_type": "stream",
     "text": [
      "intercept =  [31.46091016]\n",
      "slope =  [[ 6.57091536 -0.02084605 -0.03329528 -0.47363829]]\n"
     ]
    }
   ],
   "source": [
    "print('intercept = ', model1.intercept_)\n",
    "print('slope = ', model1.coef_)"
   ]
  },
  {
   "cell_type": "code",
   "execution_count": 10,
   "metadata": {},
   "outputs": [
    {
     "name": "stdout",
     "output_type": "stream",
     "text": [
      "[[204.53181167]]\n"
     ]
    },
    {
     "name": "stderr",
     "output_type": "stream",
     "text": [
      "c:\\Users\\ASUS\\anaconda3\\lib\\site-packages\\sklearn\\base.py:450: UserWarning: X does not have valid feature names, but LinearRegression was fitted with feature names\n",
      "  warnings.warn(\n"
     ]
    }
   ],
   "source": [
    "data1 =  np.array([[30,2,10,50]])\n",
    "hasil = model1.predict(data1)\n",
    "print(hasil)"
   ]
  },
  {
   "cell_type": "code",
   "execution_count": null,
   "metadata": {},
   "outputs": [],
   "source": []
  }
 ],
 "metadata": {
  "kernelspec": {
   "display_name": "base",
   "language": "python",
   "name": "python3"
  },
  "language_info": {
   "codemirror_mode": {
    "name": "ipython",
    "version": 3
   },
   "file_extension": ".py",
   "mimetype": "text/x-python",
   "name": "python",
   "nbconvert_exporter": "python",
   "pygments_lexer": "ipython3",
   "version": "3.9.12"
  },
  "orig_nbformat": 4,
  "vscode": {
   "interpreter": {
    "hash": "a90aeebcf29d64a654773811cc170cb25061cb2498f10ac689db374c7bf325de"
   }
  }
 },
 "nbformat": 4,
 "nbformat_minor": 2
}
