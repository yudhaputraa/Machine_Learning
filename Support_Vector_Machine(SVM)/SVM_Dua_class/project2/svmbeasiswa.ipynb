{
 "cells": [
  {
   "cell_type": "markdown",
   "metadata": {},
   "source": [
    "# Support Vector Machine (SVM)"
   ]
  },
  {
   "cell_type": "markdown",
   "metadata": {},
   "source": [
    "Metode ini memiliki beberapa keunggulan, antara lain:\n",
    "1. Efektif utk kasus dgn dimensi tinggi\n",
    "2. Mampu mengklasifikasi kasus dgn dimensi yang lebih besar dari sampel\n",
    "3. Karena menggunakan subset data pelatihan (dikenal dgn istilah suppor vector) maka svm sangat hemat memori.\n",
    "4. Serba guna dgn berbagi variasi fungi kernel yg bisa digunakan.\n",
    "\n",
    "SVM juga memiliki banyak kendala. kendala pertama adalah overfitting."
   ]
  }
 ],
 "metadata": {
  "kernelspec": {
   "display_name": "tensorflow",
   "language": "python",
   "name": "python3"
  },
  "language_info": {
   "codemirror_mode": {
    "name": "ipython",
    "version": 3
   },
   "file_extension": ".py",
   "mimetype": "text/x-python",
   "name": "python",
   "nbconvert_exporter": "python",
   "pygments_lexer": "ipython3",
   "version": "3.9.17"
  },
  "orig_nbformat": 4
 },
 "nbformat": 4,
 "nbformat_minor": 2
}
