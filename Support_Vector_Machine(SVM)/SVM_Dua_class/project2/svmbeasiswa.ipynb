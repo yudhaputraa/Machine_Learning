{
 "cells": [
  {
   "cell_type": "markdown",
   "metadata": {},
   "source": [
    "# Support Vector Machine (SVM)"
   ]
  },
  {
   "cell_type": "markdown",
   "metadata": {},
   "source": [
    "Metode ini memiliki beberapa keunggulan, antara lain:\n",
    "1. Efektif utk kasus dgn dimensi tinggi\n",
    "2. Mampu mengklasifikasi kasus dgn dimensi yang lebih besar dari sampel\n",
    "3. Karena menggunakan subset data pelatihan (dikenal dgn istilah suppor vector) maka svm sangat hemat memori.\n",
    "4. Serba guna dgn berbagi variasi fungi kernel yg bisa digunakan.\n",
    "\n",
    "SVM juga memiliki banyak kendala. kendala pertama adalah overfitting."
   ]
  },
  {
   "cell_type": "markdown",
   "metadata": {},
   "source": [
    "## Menyiapkan Dataset"
   ]
  },
  {
   "cell_type": "code",
   "execution_count": 1,
   "metadata": {},
   "outputs": [],
   "source": [
    "# import pustaka\n",
    "import pandas as pd\n",
    "import numpy as np\n",
    "import matplotlib.pyplot as plt\n",
    "from sklearn import datasets\n",
    "from sklearn import svm\n",
    "from sklearn.metrics import accuracy_score\n",
    "from sklearn.metrics import classification_report"
   ]
  },
  {
   "cell_type": "code",
   "execution_count": 2,
   "metadata": {},
   "outputs": [],
   "source": [
    "# Mengambil data dari file csv\n",
    "datasiswa = pd.read_csv('beasiswa.csv')\n",
    "df = pd.DataFrame(datasiswa,columns=['Mahasiswa','IPK','Tingkat Kemiskinan (TM)', 'Beasiswa/Tidak'])\n",
    "X = np.asarray(datasiswa)\n",
    "X_train = X[:,1:3]\n",
    "y_train = X[:,3:4]\n",
    "\n",
    "# Mengambil data validasi\n",
    "datavalidasi = pd.read_csv('validasibeasiswa.csv')\n",
    "df2 = pd.DataFrame(datavalidasi,columns=['Mahasiswa','IPK','Tingkat Kemiskinan (TM)', 'Beasiswa/Tidak'])\n",
    "X2 = np.asarray(datavalidasi)\n",
    "X_val = X2[:,1:3]\n",
    "y_val = X2[:,3:5]"
   ]
  },
  {
   "cell_type": "code",
   "execution_count": 3,
   "metadata": {},
   "outputs": [
    {
     "data": {
      "image/png": "[encoded data removed]",
      "text/plain": [
       "<Figure size 640x480 with 1 Axes>"
      ]
     },
     "metadata": {},
     "output_type": "display_data"
    }
   ],
   "source": [
    "plt.scatter([point[0] for point in X_train],[point[1] for point in X_train],color=\"blue\")\n",
    "plt.xlabel('IPK')\n",
    "plt.ylabel('TM')\n",
    "plt.title('SVM Decision')\n",
    "plt.show()"
   ]
  },
  {
   "cell_type": "markdown",
   "metadata": {},
   "source": [
    "## Memanggil SVM"
   ]
  },
  {
   "cell_type": "code",
   "execution_count": 4,
   "metadata": {},
   "outputs": [
    {
     "name": "stderr",
     "output_type": "stream",
     "text": [
      "c:\\Users\\ASUS\\anaconda3\\envs\\tensorflow\\lib\\site-packages\\sklearn\\utils\\validation.py:1184: DataConversionWarning: A column-vector y was passed when a 1d array was expected. Please change the shape of y to (n_samples, ), for example using ravel().\n",
      "  y = column_or_1d(y, warn=True)\n"
     ]
    },
    {
     "data": {
      "text/html": [
       "<style>#sk-container-id-1 {color: black;}#sk-container-id-1 pre{padding: 0;}#sk-container-id-1 div.sk-toggleable {background-color: white;}#sk-container-id-1 label.sk-toggleable__label {cursor: pointer;display: block;width: 100%;margin-bottom: 0;padding: 0.3em;box-sizing: border-box;text-align: center;}#sk-container-id-1 label.sk-toggleable__label-arrow:before {content: \"▸\";float: left;margin-right: 0.25em;color: #696969;}#sk-container-id-1 label.sk-toggleable__label-arrow:hover:before {color: black;}#sk-container-id-1 div.sk-estimator:hover label.sk-toggleable__label-arrow:before {color: black;}#sk-container-id-1 div.sk-toggleable__content {max-height: 0;max-width: 0;overflow: hidden;text-align: left;background-color: #f0f8ff;}#sk-container-id-1 div.sk-toggleable__content pre {margin: 0.2em;color: black;border-radius: 0.25em;background-color: #f0f8ff;}#sk-container-id-1 input.sk-toggleable__control:checked~div.sk-toggleable__content {max-height: 200px;max-width: 100%;overflow: auto;}#sk-container-id-1 input.sk-toggleable__control:checked~label.sk-toggleable__label-arrow:before {content: \"▾\";}#sk-container-id-1 div.sk-estimator input.sk-toggleable__control:checked~label.sk-toggleable__label {background-color: #d4ebff;}#sk-container-id-1 div.sk-label input.sk-toggleable__control:checked~label.sk-toggleable__label {background-color: #d4ebff;}#sk-container-id-1 input.sk-hidden--visually {border: 0;clip: rect(1px 1px 1px 1px);clip: rect(1px, 1px, 1px, 1px);height: 1px;margin: -1px;overflow: hidden;padding: 0;position: absolute;width: 1px;}#sk-container-id-1 div.sk-estimator {font-family: monospace;background-color: #f0f8ff;border: 1px dotted black;border-radius: 0.25em;box-sizing: border-box;margin-bottom: 0.5em;}#sk-container-id-1 div.sk-estimator:hover {background-color: #d4ebff;}#sk-container-id-1 div.sk-parallel-item::after {content: \"\";width: 100%;border-bottom: 1px solid gray;flex-grow: 1;}#sk-container-id-1 div.sk-label:hover label.sk-toggleable__label {background-color: #d4ebff;}#sk-container-id-1 div.sk-serial::before {content: \"\";position: absolute;border-left: 1px solid gray;box-sizing: border-box;top: 0;bottom: 0;left: 50%;z-index: 0;}#sk-container-id-1 div.sk-serial {display: flex;flex-direction: column;align-items: center;background-color: white;padding-right: 0.2em;padding-left: 0.2em;position: relative;}#sk-container-id-1 div.sk-item {position: relative;z-index: 1;}#sk-container-id-1 div.sk-parallel {display: flex;align-items: stretch;justify-content: center;background-color: white;position: relative;}#sk-container-id-1 div.sk-item::before, #sk-container-id-1 div.sk-parallel-item::before {content: \"\";position: absolute;border-left: 1px solid gray;box-sizing: border-box;top: 0;bottom: 0;left: 50%;z-index: -1;}#sk-container-id-1 div.sk-parallel-item {display: flex;flex-direction: column;z-index: 1;position: relative;background-color: white;}#sk-container-id-1 div.sk-parallel-item:first-child::after {align-self: flex-end;width: 50%;}#sk-container-id-1 div.sk-parallel-item:last-child::after {align-self: flex-start;width: 50%;}#sk-container-id-1 div.sk-parallel-item:only-child::after {width: 0;}#sk-container-id-1 div.sk-dashed-wrapped {border: 1px dashed gray;margin: 0 0.4em 0.5em 0.4em;box-sizing: border-box;padding-bottom: 0.4em;background-color: white;}#sk-container-id-1 div.sk-label label {font-family: monospace;font-weight: bold;display: inline-block;line-height: 1.2em;}#sk-container-id-1 div.sk-label-container {text-align: center;}#sk-container-id-1 div.sk-container {/* jupyter's `normalize.less` sets `[hidden] { display: none; }` but bootstrap.min.css set `[hidden] { display: none !important; }` so we also need the `!important` here to be able to override the default hidden behavior on the sphinx rendered scikit-learn.org. See: https://github.com/scikit-learn/scikit-learn/issues/21755 */display: inline-block !important;position: relative;}#sk-container-id-1 div.sk-text-repr-fallback {display: none;}</style><div id=\"sk-container-id-1\" class=\"sk-top-container\"><div class=\"sk-text-repr-fallback\"><pre>SVC(kernel=&#x27;linear&#x27;)</pre><b>In a Jupyter environment, please rerun this cell to show the HTML representation or trust the notebook. <br />On GitHub, the HTML representation is unable to render, please try loading this page with nbviewer.org.</b></div><div class=\"sk-container\" hidden><div class=\"sk-item\"><div class=\"sk-estimator sk-toggleable\"><input class=\"sk-toggleable__control sk-hidden--visually\" id=\"sk-estimator-id-1\" type=\"checkbox\" checked><label for=\"sk-estimator-id-1\" class=\"sk-toggleable__label sk-toggleable__label-arrow\">SVC</label><div class=\"sk-toggleable__content\"><pre>SVC(kernel=&#x27;linear&#x27;)</pre></div></div></div></div></div>"
      ],
      "text/plain": [
       "SVC(kernel='linear')"
      ]
     },
     "execution_count": 4,
     "metadata": {},
     "output_type": "execute_result"
    }
   ],
   "source": [
    "# Memanggil SVM\n",
    "clf = svm.SVC(kernel='linear')\n",
    "\n",
    "#  Fit model dgn data latih dan target/label\n",
    "clf.fit(X_train,y_train)"
   ]
  },
  {
   "cell_type": "markdown",
   "metadata": {},
   "source": [
    "Menguji model SVM yang sudah dibentuk dari data latih \"beasiswa.csv\""
   ]
  },
  {
   "cell_type": "code",
   "execution_count": 5,
   "metadata": {},
   "outputs": [
    {
     "name": "stdout",
     "output_type": "stream",
     "text": [
      "[[0. 0. 0. 1. 1. 1. 1.]]\n",
      "[0. 0. 0. 1. 1. 1. 1.]\n",
      "              precision    recall  f1-score   support\n",
      "\n",
      "         0.0       1.00      1.00      1.00         3\n",
      "         1.0       1.00      1.00      1.00         4\n",
      "\n",
      "    accuracy                           1.00         7\n",
      "   macro avg       1.00      1.00      1.00         7\n",
      "weighted avg       1.00      1.00      1.00         7\n",
      "\n"
     ]
    }
   ],
   "source": [
    "# Prediksi\n",
    "y_pred = clf.predict(X_val)\n",
    "print((y_val).T)\n",
    "print(y_pred)\n",
    "print(classification_report(y_val,y_pred))"
   ]
  },
  {
   "cell_type": "markdown",
   "metadata": {},
   "source": [
    "# Visualisasi membuat model"
   ]
  },
  {
   "cell_type": "code",
   "execution_count": 6,
   "metadata": {},
   "outputs": [],
   "source": [
    "x_min, x_max = X[:, 1].min() - 2, X[:, 1].max() + 1\n",
    "y_min, y_max = X[:, 2].min() - 2, X[:, 2].max() + 1\n",
    "xx, yy = np.meshgrid(np.arange(x_min, x_max, 0.01),\n",
    "                     np.arange(y_min, y_max, 0.01))"
   ]
  },
  {
   "cell_type": "code",
   "execution_count": 7,
   "metadata": {},
   "outputs": [
    {
     "data": {
      "image/png": "[encoded data removed]",
      "text/plain": [
       "<Figure size 640x480 with 1 Axes>"
      ]
     },
     "metadata": {},
     "output_type": "display_data"
    }
   ],
   "source": [
    "Z = clf.predict(np.c_[xx.ravel(), yy.ravel()])\n",
    "Z = Z.reshape(xx.shape)\n",
    "\n",
    "plt.contourf(xx, yy, Z, alpha=0.8)\n",
    "plt.scatter(X[:, 1], X[:, 2], c=y_train, edgecolors='k', cmap=plt.cm.Paired)\n",
    "plt.xlabel('IPK')\n",
    "plt.ylabel('TM')\n",
    "plt.title('SVM Decision')\n",
    "plt.show()"
   ]
  },
  {
   "cell_type": "markdown",
   "metadata": {},
   "source": [
    "## Klasifikasi dgn SVM dgn GUI Destop"
   ]
  },
  {
   "cell_type": "code",
   "execution_count": 19,
   "metadata": {},
   "outputs": [
    {
     "name": "stdout",
     "output_type": "stream",
     "text": [
      "[0.]\n"
     ]
    }
   ],
   "source": [
    "datatest = np.array([0.70,1.50])\n",
    "pred_test = clf.predict(datatest.reshape(1, -1))\n",
    "print(pred_test)"
   ]
  },
  {
   "cell_type": "markdown",
   "metadata": {},
   "source": [
    "Dalam kode ini, kami menggunakan datatest.reshape(1, -1) untuk mengubah dimensi datatest menjadi bentuk yang sesuai untuk prediksi dengan model SVM."
   ]
  },
  {
   "cell_type": "code",
   "execution_count": 20,
   "metadata": {},
   "outputs": [],
   "source": [
    "import tkinter as tk\n",
    "def prediksi():\n",
    "    \"\"\" prediksi dgn JST\n",
    "    \"\"\"\n",
    "    x = ent_ipk.get()\n",
    "    X = np.array(float(x)).reshape(-1,1)\n",
    "    y = ent_tm.get()\n",
    "    Y = np.array(float(y)).reshape(-1,1)\n",
    "    data2 = np.concatenate([X,Y],axis=1)\n",
    "    jurusan = clf.predict(data2)\n",
    "    jurusan = float(jurusan)\n",
    "    if(jurusan < 0.5):\n",
    "        hasil_jurusan[\"text\"] = \"Tidak Mendapatkan Beasiswa\"\n",
    "    else:\n",
    "        hasil_jurusan[\"text\"] = \"Mendapatkan Beasiswa\""
   ]
  },
  {
   "cell_type": "code",
   "execution_count": 21,
   "metadata": {},
   "outputs": [],
   "source": [
    "## Set Window\n",
    "window = tk.Tk()\n",
    "window.title(\"Penentuan Beasiswa\")\n",
    "window.resizable(width=True, height=True)\n",
    "\n",
    "# Membuat widget utk masukan \n",
    "frm_entry = tk.Frame(master=window)\n",
    "ent_ipk = tk.Entry(master=frm_entry, width=10)\n",
    "lbl_varx = tk.Label(master=frm_entry, text=\"IPK\")\n",
    "ent_tm = tk.Entry(master=frm_entry, width=10)\n",
    "lbl_vary = tk.Label(master=frm_entry, text=\"Indeks Kemiskinan\")\n",
    "\n",
    "# Layout Form masukan dgn .grid() geometry manager\n",
    "ent_ipk.grid(row=0, column=1, sticky=\"e\")\n",
    "lbl_varx.grid(row=0,column=0,sticky=\"w\")\n",
    "lbl_vary.grid(row=1,column=0,sticky=\"w\")\n",
    "ent_tm.grid(row=1, column=1, sticky=\"e\")\n",
    "\n",
    "# Membuat tombol dan keluaran\n",
    "btn_convert = tk.Button(master=window, text=\"Penentuan Beasiswa\", command=prediksi)\n",
    "\n",
    "# Set-Up layout keluaran dgn .grid() geometry manager\n",
    "hasil_jurusan = tk.Label(master=frm_entry, width=20)\n",
    "lbl_jurusan = tk.Label(master=frm_entry, text=\"Hasil Uji Kelayakan : \")\n",
    "frm_entry.grid(row=0,column=1,padx=10)\n",
    "btn_convert.grid(row=1, column=1, pady=10)\n",
    "hasil_jurusan.grid(row=4,column=1,sticky=\"w\")\n",
    "lbl_jurusan.grid(row=4, column=0, sticky=\"w\")\n",
    "\n",
    "# Menjalankan aplikasi\n",
    "window.mainloop()"
   ]
  }
 ],
 "metadata": {
  "kernelspec": {
   "display_name": "tensorflow",
   "language": "python",
   "name": "python3"
  },
  "language_info": {
   "codemirror_mode": {
    "name": "ipython",
    "version": 3
   },
   "file_extension": ".py",
   "mimetype": "text/x-python",
   "name": "python",
   "nbconvert_exporter": "python",
   "pygments_lexer": "ipython3",
   "version": "3.9.17"
  },
  "orig_nbformat": 4
 },
 "nbformat": 4,
 "nbformat_minor": 2
}
