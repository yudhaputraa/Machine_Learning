{
 "cells": [
  {
   "cell_type": "markdown",
   "metadata": {},
   "source": [
    "# Support Vector Machine (SVM)"
   ]
  },
  {
   "cell_type": "markdown",
   "metadata": {},
   "source": [
    "Metode ini memiliki beberapa keunggulan, antara lain:\n",
    "1. Efektif utk kasus dgn dimensi tinggi\n",
    "2. Mampu mengklasifikasi kasus dgn dimensi yang lebih besar dari sampel\n",
    "3. Karena menggunakan subset data pelatihan (dikenal dgn istilah suppor vector) maka svm sangat hemat memori.\n",
    "4. Serba guna dgn berbagi variasi fungi kernel yg bisa digunakan.\n",
    "\n",
    "SVM juga memiliki banyak kendala. kendala pertama adalah overfitting."
   ]
  },
  {
   "cell_type": "markdown",
   "metadata": {},
   "source": [
    "## Menyiapkan Dataset"
   ]
  },
  {
   "cell_type": "code",
   "execution_count": 2,
   "metadata": {},
   "outputs": [],
   "source": [
    "# import pustaka\n",
    "import pandas as pd\n",
    "import numpy as np\n",
    "import matplotlib.pyplot as plt\n",
    "from sklearn import datasets\n",
    "from sklearn import svm\n",
    "from sklearn.metrics import accuracy_score\n",
    "from sklearn.metrics import classification_report"
   ]
  },
  {
   "cell_type": "code",
   "execution_count": 4,
   "metadata": {},
   "outputs": [],
   "source": [
    "# Mengambil data dari file csv\n",
    "datasiswa = pd.read_csv('beasiswa.csv')\n",
    "df = pd.DataFrame(datasiswa,columns=['Mahasiswa','IPK','Tingkat Kemiskinan (TM)', 'Beasiswa/Tidak'])\n",
    "X = np.asarray(datasiswa)\n",
    "X_train = X[:,1:3]\n",
    "y_train = X[:,4:5]\n",
    "\n",
    "# Mengambil data validasi\n",
    "datavalidasi = pd.read_csv('validasibeasiswa.csv')\n",
    "df2 = pd.DataFrame(datavalidasi,columns=['Mahasiswa','IPK','Tingkat Kemiskinan (TM)', 'Beasiswa/Tidak'])\n",
    "X2 = np.asarray(datavalidasi)\n",
    "X_train = X2[:,1:3]\n",
    "y_train = X2[:,4:5]"
   ]
  }
 ],
 "metadata": {
  "kernelspec": {
   "display_name": "tensorflow",
   "language": "python",
   "name": "python3"
  },
  "language_info": {
   "codemirror_mode": {
    "name": "ipython",
    "version": 3
   },
   "file_extension": ".py",
   "mimetype": "text/x-python",
   "name": "python",
   "nbconvert_exporter": "python",
   "pygments_lexer": "ipython3",
   "version": "3.9.17"
  },
  "orig_nbformat": 4
 },
 "nbformat": 4,
 "nbformat_minor": 2
}
