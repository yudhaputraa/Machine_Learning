{
 "cells": [
  {
   "attachments": {},
   "cell_type": "markdown",
   "metadata": {},
   "source": [
    "# Churn Prediction"
   ]
  },
  {
   "attachments": {},
   "cell_type": "markdown",
   "metadata": {},
   "source": [
    "library yang mau di import"
   ]
  },
  {
   "cell_type": "code",
   "execution_count": 8,
   "metadata": {},
   "outputs": [],
   "source": [
    "import pandas as pd\n",
    "import matplotlib.pyplot as plt"
   ]
  },
  {
   "attachments": {},
   "cell_type": "markdown",
   "metadata": {},
   "source": [
    "## Mempersiapkan Dataset"
   ]
  },
  {
   "attachments": {},
   "cell_type": "markdown",
   "metadata": {},
   "source": [
    "Sebagai training dataset, kita menggunakan daftar pelanggan yang menggunakan jasa ABC Telekom. Dataset berisi sepuluh ribu example, berisikan nomor pelanggan, jenis kartu prabayar yang digunakan, berapa jumlah isi ulang pulsa, berapa lama pelanggan tersebut telah menjadi pelanggan dan pemakaian internetnya beberapa bulan terakhir."
   ]
  },
  {
   "attachments": {},
   "cell_type": "markdown",
   "metadata": {},
   "source": [
    "Nama Feature | Penjelasan feature\n",
    "----|----\n",
    "customer_id | Nomor pelanggan (berupa kode). Ini kita jadikan index\n",
    "product | Merk dagang produk kartu yang digunakan\n",
    "reload_1 | Isi ulang pulsa 1 bulan lalu (dalam Rupiah)\n",
    "reload_2 | Isi ulang pulsa 2 bulan lalu (dalam Rupiah)\n",
    "video | Penggunaan aplikasi video rata-rata per bulan (dalam Rupiah)\n",
    "music | Penggunaan aplikasi musik rata-rata per bulan (dalam Rupiah)\n",
    "games | Penggunaan game rata-rata per bulan (dalam Rupiah)\n",
    "chat_1 | Penggunaan online chat 1 bulan lalu (dalam Rupiah)\n",
    "chat_2 | Penggunaan online chat 2 bulan lalu (dalam Rupiah)\n",
    "socmed_1 | Penggunaan media sosial 1 bulan lalu (dalam Rupiah)\n",
    "socmed_2 | Penggunaan media sosial 2 bulan lalu (dalam Rupiah)\n",
    "internet | Penggunaan internet total 1 bulan terakhir (dalam Rupiah)\n",
    "days_active | Jumlah hari aktif menggunakan layanan dalam sebulan terakhir\n",
    "tenure | Berapa lama sudah menjadi pelanggan (dalam hari)\n",
    "churn | \"0\" bila pelanggan masih aktif, \"1\" bila sudah tidak menjadi pelanggan. Ini yang dijadikan target/label prediksi"
   ]
  },
  {
   "attachments": {},
   "cell_type": "markdown",
   "metadata": {},
   "source": [
    "Mengambil dataset"
   ]
  },
  {
   "cell_type": "code",
   "execution_count": 2,
   "metadata": {},
   "outputs": [],
   "source": [
    "df1 = pd.read_csv('churnprediction.csv', sep = ',',index_col = ['customer_id'])"
   ]
  },
  {
   "attachments": {},
   "cell_type": "markdown",
   "metadata": {},
   "source": [
    "Program di atas menggunakan kolom customer_id sebagai index, karena kolom inilah yang berisikan nomor kode pelanggan yang menjadi identitias unik setiap pelanggan."
   ]
  },
  {
   "cell_type": "code",
   "execution_count": 3,
   "metadata": {},
   "outputs": [
    {
     "data": {
      "text/html": [
       "<div>\n",
       "<style scoped>\n",
       "    .dataframe tbody tr th:only-of-type {\n",
       "        vertical-align: middle;\n",
       "    }\n",
       "\n",
       "    .dataframe tbody tr th {\n",
       "        vertical-align: top;\n",
       "    }\n",
       "\n",
       "    .dataframe thead th {\n",
       "        text-align: right;\n",
       "    }\n",
       "</style>\n",
       "<table border=\"1\" class=\"dataframe\">\n",
       "  <thead>\n",
       "    <tr style=\"text-align: right;\">\n",
       "      <th></th>\n",
       "      <th>product</th>\n",
       "      <th>reload_1</th>\n",
       "      <th>reload_2</th>\n",
       "      <th>video</th>\n",
       "      <th>music</th>\n",
       "      <th>games</th>\n",
       "      <th>chat_1</th>\n",
       "      <th>chat_2</th>\n",
       "      <th>socmed_1</th>\n",
       "      <th>socmed_2</th>\n",
       "      <th>internet</th>\n",
       "      <th>days_active</th>\n",
       "      <th>tenure</th>\n",
       "      <th>churn</th>\n",
       "    </tr>\n",
       "    <tr>\n",
       "      <th>customer_id</th>\n",
       "      <th></th>\n",
       "      <th></th>\n",
       "      <th></th>\n",
       "      <th></th>\n",
       "      <th></th>\n",
       "      <th></th>\n",
       "      <th></th>\n",
       "      <th></th>\n",
       "      <th></th>\n",
       "      <th></th>\n",
       "      <th></th>\n",
       "      <th></th>\n",
       "      <th></th>\n",
       "      <th></th>\n",
       "    </tr>\n",
       "  </thead>\n",
       "  <tbody>\n",
       "    <tr>\n",
       "      <th>285fae8412c4720a0c79d95f98434422</th>\n",
       "      <td>Kartu A</td>\n",
       "      <td>27734.30</td>\n",
       "      <td>24381.32</td>\n",
       "      <td>22000.0</td>\n",
       "      <td>33009.9</td>\n",
       "      <td>25669.97</td>\n",
       "      <td>1716.0</td>\n",
       "      <td>2145.0</td>\n",
       "      <td>0.0</td>\n",
       "      <td>792.0</td>\n",
       "      <td>11000.0</td>\n",
       "      <td>15</td>\n",
       "      <td>776</td>\n",
       "      <td>0</td>\n",
       "    </tr>\n",
       "    <tr>\n",
       "      <th>f45bce87ca6bf100f222fcc0db06b624</th>\n",
       "      <td>Kartu A</td>\n",
       "      <td>26433.00</td>\n",
       "      <td>26515.50</td>\n",
       "      <td>0.0</td>\n",
       "      <td>0.0</td>\n",
       "      <td>0.00</td>\n",
       "      <td>0.0</td>\n",
       "      <td>15444.0</td>\n",
       "      <td>0.0</td>\n",
       "      <td>0.0</td>\n",
       "      <td>74151.0</td>\n",
       "      <td>13</td>\n",
       "      <td>352</td>\n",
       "      <td>0</td>\n",
       "    </tr>\n",
       "    <tr>\n",
       "      <th>09b54557b1e2a10d998e3473a9ccd2a0</th>\n",
       "      <td>Kartu A</td>\n",
       "      <td>93212.17</td>\n",
       "      <td>67101.83</td>\n",
       "      <td>0.0</td>\n",
       "      <td>0.0</td>\n",
       "      <td>0.00</td>\n",
       "      <td>86795.5</td>\n",
       "      <td>94649.5</td>\n",
       "      <td>330.0</td>\n",
       "      <td>1485.0</td>\n",
       "      <td>27467.0</td>\n",
       "      <td>15</td>\n",
       "      <td>1987</td>\n",
       "      <td>0</td>\n",
       "    </tr>\n",
       "    <tr>\n",
       "      <th>11f252f48be36f93dd429f2ec86cb2f5</th>\n",
       "      <td>Kartu A</td>\n",
       "      <td>183.33</td>\n",
       "      <td>1087.17</td>\n",
       "      <td>0.0</td>\n",
       "      <td>0.0</td>\n",
       "      <td>0.00</td>\n",
       "      <td>0.0</td>\n",
       "      <td>0.0</td>\n",
       "      <td>0.0</td>\n",
       "      <td>0.0</td>\n",
       "      <td>0.0</td>\n",
       "      <td>2</td>\n",
       "      <td>285</td>\n",
       "      <td>0</td>\n",
       "    </tr>\n",
       "    <tr>\n",
       "      <th>a8df29ae9195eea348d2f74c967b978d</th>\n",
       "      <td>Kartu A</td>\n",
       "      <td>95296.67</td>\n",
       "      <td>76246.50</td>\n",
       "      <td>0.0</td>\n",
       "      <td>0.0</td>\n",
       "      <td>11000.00</td>\n",
       "      <td>118800.0</td>\n",
       "      <td>104940.0</td>\n",
       "      <td>0.0</td>\n",
       "      <td>0.0</td>\n",
       "      <td>63855.0</td>\n",
       "      <td>15</td>\n",
       "      <td>1081</td>\n",
       "      <td>0</td>\n",
       "    </tr>\n",
       "  </tbody>\n",
       "</table>\n",
       "</div>"
      ],
      "text/plain": [
       "                                  product  reload_1  reload_2    video  \\\n",
       "customer_id                                                              \n",
       "285fae8412c4720a0c79d95f98434422  Kartu A  27734.30  24381.32  22000.0   \n",
       "f45bce87ca6bf100f222fcc0db06b624  Kartu A  26433.00  26515.50      0.0   \n",
       "09b54557b1e2a10d998e3473a9ccd2a0  Kartu A  93212.17  67101.83      0.0   \n",
       "11f252f48be36f93dd429f2ec86cb2f5  Kartu A    183.33   1087.17      0.0   \n",
       "a8df29ae9195eea348d2f74c967b978d  Kartu A  95296.67  76246.50      0.0   \n",
       "\n",
       "                                    music     games    chat_1    chat_2  \\\n",
       "customer_id                                                               \n",
       "285fae8412c4720a0c79d95f98434422  33009.9  25669.97    1716.0    2145.0   \n",
       "f45bce87ca6bf100f222fcc0db06b624      0.0      0.00       0.0   15444.0   \n",
       "09b54557b1e2a10d998e3473a9ccd2a0      0.0      0.00   86795.5   94649.5   \n",
       "11f252f48be36f93dd429f2ec86cb2f5      0.0      0.00       0.0       0.0   \n",
       "a8df29ae9195eea348d2f74c967b978d      0.0  11000.00  118800.0  104940.0   \n",
       "\n",
       "                                  socmed_1  socmed_2  internet  days_active  \\\n",
       "customer_id                                                                   \n",
       "285fae8412c4720a0c79d95f98434422       0.0     792.0   11000.0           15   \n",
       "f45bce87ca6bf100f222fcc0db06b624       0.0       0.0   74151.0           13   \n",
       "09b54557b1e2a10d998e3473a9ccd2a0     330.0    1485.0   27467.0           15   \n",
       "11f252f48be36f93dd429f2ec86cb2f5       0.0       0.0       0.0            2   \n",
       "a8df29ae9195eea348d2f74c967b978d       0.0       0.0   63855.0           15   \n",
       "\n",
       "                                  tenure  churn  \n",
       "customer_id                                      \n",
       "285fae8412c4720a0c79d95f98434422     776      0  \n",
       "f45bce87ca6bf100f222fcc0db06b624     352      0  \n",
       "09b54557b1e2a10d998e3473a9ccd2a0    1987      0  \n",
       "11f252f48be36f93dd429f2ec86cb2f5     285      0  \n",
       "a8df29ae9195eea348d2f74c967b978d    1081      0  "
      ]
     },
     "execution_count": 3,
     "metadata": {},
     "output_type": "execute_result"
    }
   ],
   "source": [
    "df1.head()"
   ]
  },
  {
   "attachments": {},
   "cell_type": "markdown",
   "metadata": {},
   "source": [
    "Kolom paling kanan adalah label yang menunjukkan pelanggan telah berhenti berlangganan (churn \"1\") atau masih aktif (churn = \"0\"). Inilah yang akan kita jadikan target prediksi kita."
   ]
  },
  {
   "cell_type": "code",
   "execution_count": 4,
   "metadata": {},
   "outputs": [
    {
     "name": "stdout",
     "output_type": "stream",
     "text": [
      "<class 'pandas.core.frame.DataFrame'>\n",
      "Index: 10000 entries, 285fae8412c4720a0c79d95f98434422 to 2c5bc32bc9a9c393d393bfc11c409b0d\n",
      "Data columns (total 14 columns):\n",
      " #   Column       Non-Null Count  Dtype  \n",
      "---  ------       --------------  -----  \n",
      " 0   product      10000 non-null  object \n",
      " 1   reload_1     10000 non-null  float64\n",
      " 2   reload_2     10000 non-null  float64\n",
      " 3   video        10000 non-null  float64\n",
      " 4   music        10000 non-null  float64\n",
      " 5   games        10000 non-null  float64\n",
      " 6   chat_1       10000 non-null  float64\n",
      " 7   chat_2       10000 non-null  float64\n",
      " 8   socmed_1     10000 non-null  float64\n",
      " 9   socmed_2     10000 non-null  float64\n",
      " 10  internet     10000 non-null  float64\n",
      " 11  days_active  10000 non-null  int64  \n",
      " 12  tenure       10000 non-null  int64  \n",
      " 13  churn        10000 non-null  int64  \n",
      "dtypes: float64(10), int64(3), object(1)\n",
      "memory usage: 1.1+ MB\n"
     ]
    }
   ],
   "source": [
    "# info() digunakan untuk menampilkan informasi detail tentang dataframe, seperti jumlah baris data, nama-nama kolom berserta jumlah data dan tipe datanya, dan sebagainya.\n",
    "\n",
    "df1.info()\n"
   ]
  },
  {
   "attachments": {},
   "cell_type": "markdown",
   "metadata": {},
   "source": [
    "Karena pelanggan yang masih aktif dan pelanggan yang sudah berhenti berlangganan masih tercampur di dalam dataset ini, perlu dilihat perbandingan keduanya secara visual berupa pie chart dengan bantuan library Matplotlib."
   ]
  },
  {
   "cell_type": "code",
   "execution_count": 6,
   "metadata": {},
   "outputs": [],
   "source": [
    "# Perintah Group by pada Pandas DataFrame menyediakan fungsi untuk mengelompokkan data.\n",
    "\n",
    "# Count () adalah fungsi bawaan dengan Python. Ini akan mengembalikan jumlah total elemen yang diberikan dalam sebuah string. Penghitungan dimulai dari awal string sampai akhir.\n",
    "\n",
    "dfAktifChurn = df1.groupby('churn').count()"
   ]
  },
  {
   "cell_type": "code",
   "execution_count": 10,
   "metadata": {},
   "outputs": [
    {
     "data": {
      "image/png": "[encoded data removed]",
      "text/plain": [
       "<Figure size 432x288 with 1 Axes>"
      ]
     },
     "metadata": {},
     "output_type": "display_data"
    }
   ],
   "source": [
    "plt.pie(dfAktifChurn['product'], labels = ['Aktif','Churn'], autopct = '%1.0f%%')\n",
    "plt.title('Persentase Pelanggan Aktif Vs Churn')\n",
    "plt.axis('equal')\n",
    "plt.show()\n"
   ]
  },
  {
   "attachments": {},
   "cell_type": "markdown",
   "metadata": {},
   "source": [
    "Terlihat bahwa di dalam dataset ada dua kelompok pelanggan, yaitu 20% pelanggan yang sudah churn dan sisanya 80% yang masih aktif."
   ]
  },
  {
   "attachments": {},
   "cell_type": "markdown",
   "metadata": {},
   "source": [
    "Ada satu hal yg perlu mendapat perhatian yaitu feature \"product\". apa saja isi kolo ini?"
   ]
  },
  {
   "cell_type": "code",
   "execution_count": 11,
   "metadata": {},
   "outputs": [
    {
     "data": {
      "text/plain": [
       "Kartu C    7548\n",
       "Kartu B    1679\n",
       "Kartu A     773\n",
       "Name: product, dtype: int64"
      ]
     },
     "execution_count": 11,
     "metadata": {},
     "output_type": "execute_result"
    }
   ],
   "source": [
    "# value_counts() Berguna untuk menghitung berapa kali sebuah value terdapat dalam dataset.\n",
    "df1['product'].value_counts()"
   ]
  },
  {
   "attachments": {},
   "cell_type": "markdown",
   "metadata": {},
   "source": [
    "Karena masih berupa teks berisi nama-nama produk (\"Kartu A\", \"Kartu B\", dan \"Kartu C\"), maka feature ini harus diubah menjadi numerik. Cara yang paling umum adalah dengan metode one-hot encoding, yaitu menuliskan semua nilai yang mungkin muncul menjadi kolom kemudian memberikan nilai 0 dan 1 di kolom tersebut, tergantung pada pelanggan yang diwakili di setiap baris apakah menggunakan produk yang bersangkutan. Dalam kasus kita, karena ada tiga produk, maka akan ada tiga kolom baru."
   ]
  },
  {
   "cell_type": "code",
   "execution_count": 12,
   "metadata": {},
   "outputs": [
    {
     "data": {
      "text/html": [
       "<div>\n",
       "<style scoped>\n",
       "    .dataframe tbody tr th:only-of-type {\n",
       "        vertical-align: middle;\n",
       "    }\n",
       "\n",
       "    .dataframe tbody tr th {\n",
       "        vertical-align: top;\n",
       "    }\n",
       "\n",
       "    .dataframe thead th {\n",
       "        text-align: right;\n",
       "    }\n",
       "</style>\n",
       "<table border=\"1\" class=\"dataframe\">\n",
       "  <thead>\n",
       "    <tr style=\"text-align: right;\">\n",
       "      <th></th>\n",
       "      <th>Kartu A</th>\n",
       "      <th>Kartu B</th>\n",
       "      <th>Kartu C</th>\n",
       "    </tr>\n",
       "    <tr>\n",
       "      <th>customer_id</th>\n",
       "      <th></th>\n",
       "      <th></th>\n",
       "      <th></th>\n",
       "    </tr>\n",
       "  </thead>\n",
       "  <tbody>\n",
       "    <tr>\n",
       "      <th>285fae8412c4720a0c79d95f98434422</th>\n",
       "      <td>1</td>\n",
       "      <td>0</td>\n",
       "      <td>0</td>\n",
       "    </tr>\n",
       "    <tr>\n",
       "      <th>f45bce87ca6bf100f222fcc0db06b624</th>\n",
       "      <td>1</td>\n",
       "      <td>0</td>\n",
       "      <td>0</td>\n",
       "    </tr>\n",
       "    <tr>\n",
       "      <th>09b54557b1e2a10d998e3473a9ccd2a0</th>\n",
       "      <td>1</td>\n",
       "      <td>0</td>\n",
       "      <td>0</td>\n",
       "    </tr>\n",
       "    <tr>\n",
       "      <th>11f252f48be36f93dd429f2ec86cb2f5</th>\n",
       "      <td>1</td>\n",
       "      <td>0</td>\n",
       "      <td>0</td>\n",
       "    </tr>\n",
       "    <tr>\n",
       "      <th>a8df29ae9195eea348d2f74c967b978d</th>\n",
       "      <td>1</td>\n",
       "      <td>0</td>\n",
       "      <td>0</td>\n",
       "    </tr>\n",
       "    <tr>\n",
       "      <th>...</th>\n",
       "      <td>...</td>\n",
       "      <td>...</td>\n",
       "      <td>...</td>\n",
       "    </tr>\n",
       "    <tr>\n",
       "      <th>9e8b318d96caa9c0c4a50e8e59f5026c</th>\n",
       "      <td>0</td>\n",
       "      <td>1</td>\n",
       "      <td>0</td>\n",
       "    </tr>\n",
       "    <tr>\n",
       "      <th>a310627191bdbded3905ac73e77fe319</th>\n",
       "      <td>0</td>\n",
       "      <td>1</td>\n",
       "      <td>0</td>\n",
       "    </tr>\n",
       "    <tr>\n",
       "      <th>b6f11059e5c1df69b8c16d5c39af23dc</th>\n",
       "      <td>0</td>\n",
       "      <td>1</td>\n",
       "      <td>0</td>\n",
       "    </tr>\n",
       "    <tr>\n",
       "      <th>88709f1defd232243f729912be696f87</th>\n",
       "      <td>0</td>\n",
       "      <td>1</td>\n",
       "      <td>0</td>\n",
       "    </tr>\n",
       "    <tr>\n",
       "      <th>2c5bc32bc9a9c393d393bfc11c409b0d</th>\n",
       "      <td>0</td>\n",
       "      <td>0</td>\n",
       "      <td>1</td>\n",
       "    </tr>\n",
       "  </tbody>\n",
       "</table>\n",
       "<p>10000 rows × 3 columns</p>\n",
       "</div>"
      ],
      "text/plain": [
       "                                  Kartu A  Kartu B  Kartu C\n",
       "customer_id                                                \n",
       "285fae8412c4720a0c79d95f98434422        1        0        0\n",
       "f45bce87ca6bf100f222fcc0db06b624        1        0        0\n",
       "09b54557b1e2a10d998e3473a9ccd2a0        1        0        0\n",
       "11f252f48be36f93dd429f2ec86cb2f5        1        0        0\n",
       "a8df29ae9195eea348d2f74c967b978d        1        0        0\n",
       "...                                   ...      ...      ...\n",
       "9e8b318d96caa9c0c4a50e8e59f5026c        0        1        0\n",
       "a310627191bdbded3905ac73e77fe319        0        1        0\n",
       "b6f11059e5c1df69b8c16d5c39af23dc        0        1        0\n",
       "88709f1defd232243f729912be696f87        0        1        0\n",
       "2c5bc32bc9a9c393d393bfc11c409b0d        0        0        1\n",
       "\n",
       "[10000 rows x 3 columns]"
      ]
     },
     "execution_count": 12,
     "metadata": {},
     "output_type": "execute_result"
    }
   ],
   "source": [
    "# Fungsi get_dummies digunakan untuk mengubah variabel kategorikal menjadi variabel numerikal dengan melakukan proses One-Hot-Encode terhadap variabel kategorikal.\n",
    "\n",
    "pd.get_dummies(df1['product'])"
   ]
  },
  {
   "attachments": {},
   "cell_type": "markdown",
   "metadata": {},
   "source": [
    "Menghapus dan memasukan data yg sudah di on-hot encoding"
   ]
  },
  {
   "cell_type": "code",
   "execution_count": 14,
   "metadata": {},
   "outputs": [],
   "source": [
    "# Pada Pandas, fungsi \"concat()\" digunakan untuk menggabungkan dua atau lebih DataFrame atau Series.\n",
    "\n",
    "df2 = pd.concat([df1, pd.get_dummies(df1['product'])], axis=1, sort=False)\n",
    "\n",
    "# fungsi drop() adalah utk menghapus kolom product\n",
    "df2.drop(['product'], axis=1, inplace=True)"
   ]
  },
  {
   "cell_type": "code",
   "execution_count": null,
   "metadata": {},
   "outputs": [],
   "source": []
  }
 ],
 "metadata": {
  "kernelspec": {
   "display_name": "base",
   "language": "python",
   "name": "python3"
  },
  "language_info": {
   "codemirror_mode": {
    "name": "ipython",
    "version": 3
   },
   "file_extension": ".py",
   "mimetype": "text/x-python",
   "name": "python",
   "nbconvert_exporter": "python",
   "pygments_lexer": "ipython3",
   "version": "3.9.12"
  },
  "orig_nbformat": 4
 },
 "nbformat": 4,
 "nbformat_minor": 2
}
